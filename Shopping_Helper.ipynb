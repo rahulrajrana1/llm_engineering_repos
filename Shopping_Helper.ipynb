{
 "cells": [
  {
   "cell_type": "code",
   "execution_count": 1,
   "id": "4e2a9393-7767-488e-a8bf-27c12dca35bd",
   "metadata": {},
   "outputs": [],
   "source": [
    "# imports\n",
    "\n",
    "import os\n",
    "import requests\n",
    "from dotenv import load_dotenv\n",
    "from bs4 import BeautifulSoup\n",
    "from IPython.display import Markdown, display\n",
    "from openai import OpenAI\n",
    "\n",
    "# If you get an error running this cell, then please head over to the troubleshooting notebook!"
   ]
  },
  {
   "cell_type": "markdown",
   "id": "6900b2a8-6384-4316-8aaa-5e519fca4254",
   "metadata": {},
   "source": [
    "# Connecting to OpenAI\n",
    "\n",
    "The next cell is where we load in the environment variables in your `.env` file and connect to OpenAI.  \n"
   ]
  },
  {
   "cell_type": "code",
   "execution_count": 3,
   "id": "7b87cadb-d513-4303-baee-a37b6f938e4d",
   "metadata": {},
   "outputs": [
    {
     "name": "stdout",
     "output_type": "stream",
     "text": [
      "API key found and looks good so far!\n"
     ]
    }
   ],
   "source": [
    "# Load environment variables in a file called .env\n",
    "\n",
    "load_dotenv(override=True)\n",
    "api_key = os.getenv('OPENAI_API_KEY')\n",
    "\n",
    "# Check the key\n",
    "\n",
    "if not api_key:\n",
    "    print(\"No API key was found - please head over to the troubleshooting notebook in this folder to identify & fix!\")\n",
    "elif not api_key.startswith(\"sk-proj-\"):\n",
    "    print(\"An API key was found, but it doesn't start sk-proj-; please check you're using the right key - see troubleshooting notebook\")\n",
    "elif api_key.strip() != api_key:\n",
    "    print(\"An API key was found, but it looks like it might have space or tab characters at the start or end - please remove them - see troubleshooting notebook\")\n",
    "else:\n",
    "    print(\"API key found and looks good so far!\")\n"
   ]
  },
  {
   "cell_type": "code",
   "execution_count": 4,
   "id": "019974d9-f3ad-4a8a-b5f9-0a3719aea2d3",
   "metadata": {},
   "outputs": [],
   "source": [
    "openai = OpenAI()\n",
    "\n",
    "# If this doesn't work, try Kernel menu >> Restart Kernel and Clear Outputs Of All Cells, then run the cells from the top of this notebook down.\n",
    "# If it STILL doesn't work (horrors!) then please see the Troubleshooting notebook in this folder for full instructions"
   ]
  },
  {
   "cell_type": "markdown",
   "id": "442fc84b-0815-4f40-99ab-d9a5da6bda91",
   "metadata": {},
   "source": [
    "# Let's make a quick call to a model to get started"
   ]
  },
  {
   "cell_type": "code",
   "execution_count": 5,
   "id": "a58394bf-1e45-46af-9bfd-01e24da6f49a",
   "metadata": {},
   "outputs": [
    {
     "name": "stdout",
     "output_type": "stream",
     "text": [
      "Hello! Welcome! I'm glad to hear from you. How can I assist you today?\n"
     ]
    }
   ],
   "source": [
    "# To give you a preview -- calling OpenAI with these messages is this easy. Any problems, head over to the Troubleshooting notebook.\n",
    "\n",
    "message = \"Hello, GPT! This is my first ever message to you! Hi!\"\n",
    "response = openai.chat.completions.create(model=\"gpt-4o-mini\", messages=[{\"role\":\"user\", \"content\":message}])\n",
    "print(response.choices[0].message.content)"
   ]
  },
  {
   "cell_type": "code",
   "execution_count": 7,
   "id": "8f066048-f4c0-4c67-8b2d-14bf4b8b8158",
   "metadata": {},
   "outputs": [
    {
     "name": "stdout",
     "output_type": "stream",
     "text": [
      "ChatCompletion(id='chatcmpl-C6es3A7o3gnFjmB4CgGxHXirKhSdc', choices=[Choice(finish_reason='stop', index=0, logprobs=None, message=ChatCompletionMessage(content=\"Hello! Welcome! I'm glad you're here. How can I assist you today?\", refusal=None, role='assistant', annotations=[], audio=None, function_call=None, tool_calls=None))], created=1755703111, model='gpt-4o-mini-2024-07-18', object='chat.completion', service_tier='default', system_fingerprint='fp_560af6e559', usage=CompletionUsage(completion_tokens=16, prompt_tokens=22, total_tokens=38, completion_tokens_details=CompletionTokensDetails(accepted_prediction_tokens=0, audio_tokens=0, reasoning_tokens=0, rejected_prediction_tokens=0), prompt_tokens_details=PromptTokensDetails(audio_tokens=0, cached_tokens=0)))\n"
     ]
    }
   ],
   "source": [
    "print(response)"
   ]
  },
  {
   "cell_type": "markdown",
   "id": "2aa190e5-cb31-456a-96cc-db109919cd78",
   "metadata": {},
   "source": [
    "## Onwards with our first project"
   ]
  },
  {
   "cell_type": "code",
   "execution_count": 30,
   "id": "135f51f2-9153-45b2-8003-3ae025126ec7",
   "metadata": {
    "collapsed": true,
    "jupyter": {
     "outputs_hidden": true
    }
   },
   "outputs": [
    {
     "name": "stdout",
     "output_type": "stream",
     "text": [
      "Collecting selenium\n",
      "  Downloading selenium-4.35.0-py3-none-any.whl.metadata (7.4 kB)\n",
      "Requirement already satisfied: urllib3<3.0,>=2.5.0 in /opt/anaconda3/envs/llms/lib/python3.11/site-packages (from urllib3[socks]<3.0,>=2.5.0->selenium) (2.5.0)\n",
      "Collecting trio~=0.30.0 (from selenium)\n",
      "  Downloading trio-0.30.0-py3-none-any.whl.metadata (8.5 kB)\n",
      "Collecting trio-websocket~=0.12.2 (from selenium)\n",
      "  Downloading trio_websocket-0.12.2-py3-none-any.whl.metadata (5.1 kB)\n",
      "Requirement already satisfied: certifi>=2025.6.15 in /opt/anaconda3/envs/llms/lib/python3.11/site-packages (from selenium) (2025.8.3)\n",
      "Requirement already satisfied: typing_extensions~=4.14.0 in /opt/anaconda3/envs/llms/lib/python3.11/site-packages (from selenium) (4.14.1)\n",
      "Requirement already satisfied: websocket-client~=1.8.0 in /opt/anaconda3/envs/llms/lib/python3.11/site-packages (from selenium) (1.8.0)\n",
      "Requirement already satisfied: attrs>=23.2.0 in /opt/anaconda3/envs/llms/lib/python3.11/site-packages (from trio~=0.30.0->selenium) (25.3.0)\n",
      "Collecting sortedcontainers (from trio~=0.30.0->selenium)\n",
      "  Downloading sortedcontainers-2.4.0-py2.py3-none-any.whl.metadata (10 kB)\n",
      "Requirement already satisfied: idna in /opt/anaconda3/envs/llms/lib/python3.11/site-packages (from trio~=0.30.0->selenium) (3.10)\n",
      "Collecting outcome (from trio~=0.30.0->selenium)\n",
      "  Downloading outcome-1.3.0.post0-py2.py3-none-any.whl.metadata (2.6 kB)\n",
      "Requirement already satisfied: sniffio>=1.3.0 in /opt/anaconda3/envs/llms/lib/python3.11/site-packages (from trio~=0.30.0->selenium) (1.3.1)\n",
      "Collecting wsproto>=0.14 (from trio-websocket~=0.12.2->selenium)\n",
      "  Downloading wsproto-1.2.0-py3-none-any.whl.metadata (5.6 kB)\n",
      "Requirement already satisfied: pysocks!=1.5.7,<2.0,>=1.5.6 in /opt/anaconda3/envs/llms/lib/python3.11/site-packages (from urllib3[socks]<3.0,>=2.5.0->selenium) (1.7.1)\n",
      "Requirement already satisfied: h11<1,>=0.9.0 in /opt/anaconda3/envs/llms/lib/python3.11/site-packages (from wsproto>=0.14->trio-websocket~=0.12.2->selenium) (0.16.0)\n",
      "Downloading selenium-4.35.0-py3-none-any.whl (9.6 MB)\n",
      "\u001b[2K   \u001b[90m━━━━━━━━━━━━━━━━━━━━━━━━━━━━━━━━━━━━━━━━\u001b[0m \u001b[32m9.6/9.6 MB\u001b[0m \u001b[31m25.0 MB/s\u001b[0m  \u001b[33m0:00:00\u001b[0m eta \u001b[36m0:00:01\u001b[0m\n",
      "\u001b[?25hDownloading trio-0.30.0-py3-none-any.whl (499 kB)\n",
      "Downloading trio_websocket-0.12.2-py3-none-any.whl (21 kB)\n",
      "Downloading outcome-1.3.0.post0-py2.py3-none-any.whl (10 kB)\n",
      "Downloading wsproto-1.2.0-py3-none-any.whl (24 kB)\n",
      "Downloading sortedcontainers-2.4.0-py2.py3-none-any.whl (29 kB)\n",
      "Installing collected packages: sortedcontainers, wsproto, outcome, trio, trio-websocket, selenium\n",
      "\u001b[2K   \u001b[90m━━━━━━━━━━━━━━━━━━━━━━━━━━━━━━━━━━━━━━━━\u001b[0m \u001b[32m6/6\u001b[0m [selenium]5/6\u001b[0m [selenium]\n",
      "\u001b[1A\u001b[2KSuccessfully installed outcome-1.3.0.post0 selenium-4.35.0 sortedcontainers-2.4.0 trio-0.30.0 trio-websocket-0.12.2 wsproto-1.2.0\n"
     ]
    }
   ],
   "source": [
    "!pip install selenium"
   ]
  },
  {
   "cell_type": "code",
   "execution_count": 31,
   "id": "788b5c0f-4236-4191-a9dd-3aa8ac4b83f5",
   "metadata": {
    "collapsed": true,
    "jupyter": {
     "outputs_hidden": true
    }
   },
   "outputs": [
    {
     "name": "stdout",
     "output_type": "stream",
     "text": [
      "Collecting webdriver-manager\n",
      "  Downloading webdriver_manager-4.0.2-py2.py3-none-any.whl.metadata (12 kB)\n",
      "Requirement already satisfied: requests in /opt/anaconda3/envs/llms/lib/python3.11/site-packages (from webdriver-manager) (2.32.5)\n",
      "Requirement already satisfied: python-dotenv in /opt/anaconda3/envs/llms/lib/python3.11/site-packages (from webdriver-manager) (1.1.1)\n",
      "Requirement already satisfied: packaging in /opt/anaconda3/envs/llms/lib/python3.11/site-packages (from webdriver-manager) (25.0)\n",
      "Requirement already satisfied: charset_normalizer<4,>=2 in /opt/anaconda3/envs/llms/lib/python3.11/site-packages (from requests->webdriver-manager) (3.4.3)\n",
      "Requirement already satisfied: idna<4,>=2.5 in /opt/anaconda3/envs/llms/lib/python3.11/site-packages (from requests->webdriver-manager) (3.10)\n",
      "Requirement already satisfied: urllib3<3,>=1.21.1 in /opt/anaconda3/envs/llms/lib/python3.11/site-packages (from requests->webdriver-manager) (2.5.0)\n",
      "Requirement already satisfied: certifi>=2017.4.17 in /opt/anaconda3/envs/llms/lib/python3.11/site-packages (from requests->webdriver-manager) (2025.8.3)\n",
      "Downloading webdriver_manager-4.0.2-py2.py3-none-any.whl (27 kB)\n",
      "Installing collected packages: webdriver-manager\n",
      "Successfully installed webdriver-manager-4.0.2\n"
     ]
    }
   ],
   "source": [
    "!pip install webdriver-manager"
   ]
  },
  {
   "cell_type": "code",
   "execution_count": 42,
   "id": "9121068f-457b-4571-9f0b-789553f76221",
   "metadata": {},
   "outputs": [],
   "source": [
    "from selenium import webdriver\n",
    "from selenium.webdriver.chrome.options import Options\n",
    "from selenium.webdriver.chrome.service import Service\n",
    "from bs4 import BeautifulSoup\n",
    "import time\n",
    "import os \n",
    "\n",
    "class WebsiteSel:\n",
    "    def __init__(self, url, driver_path=None, wait_time=3):\n",
    "        self.url = url\n",
    "        self.wait_time = wait_time\n",
    "\n",
    "        # Headless Chrome settings\n",
    "        options = Options()\n",
    "        # options.add_argument(\"--headless\")  \n",
    "        # Headless mode runs the browser in the background (invisible).\n",
    "        # However, some websites (like openai.com) block headless browsers.\n",
    "        # So if this line is active, the page may not load correctly and you may not get the full content.\n",
    "        options.add_argument(\"--disable-gpu\")\n",
    "        options.add_argument(\"--no-sandbox\")\n",
    "        options.add_argument(\"--window-size=1920x1080\")\n",
    "\n",
    "        # Driver path\n",
    "        if driver_path:\n",
    "            service = Service(executable_path=driver_path)\n",
    "        else:\n",
    "            service = Service() \n",
    "\n",
    "        # Start browser\n",
    "        driver = webdriver.Chrome(service=service, options=options)\n",
    "        driver.get(url)\n",
    "\n",
    "        # Wait for the loading page\n",
    "        time.sleep(self.wait_time)\n",
    "\n",
    "        # Take page source\n",
    "        html = driver.page_source\n",
    "        driver.quit()\n",
    "\n",
    "        # Analysis with BeautifulSoup \n",
    "        soup = BeautifulSoup(html, 'html.parser')\n",
    "        self.title = soup.title.string if soup.title else \"No title found\"\n",
    "\n",
    "      \n",
    "        # # Remove irrelevant tags: scripts, styles, images, inputs, navs, footers, headers, and asides\n",
    "        for irrelevant in soup.body([\"script\", \"style\", \"img\", \"input\", \"nav\", \"footer\", \"header\", \"aside\"]):\n",
    "            irrelevant.decompose()\n",
    "        \n",
    "        # Remove common ad containers (classes and IDs often used for ads/boilerplate)\n",
    "        for ad in soup.body.find_all(attrs={\n",
    "            \"class\": [\"ad\", \"ads\", \"advertisement\", \"sponsored\", \"promo\", \"banner\", \"cookie-consent\"],\n",
    "            \"id\": [\"ad\", \"ads\", \"advertisement\", \"sponsored\", \"promo\", \"banner\", \"cookie-consent\"]\n",
    "        }):\n",
    "            ad.decompose()\n",
    "        \n",
    "        # Remove repetitive boilerplate sections (menus, sidebars, etc.)\n",
    "        for boilerplate in soup.body.find_all(attrs={\n",
    "            \"class\": [\"sidebar\", \"menu\", \"navigation\", \"breadcrumb\", \"footer-links\"]\n",
    "        }):\n",
    "            boilerplate.decompose()\n",
    "        \n",
    "        # Now extract cleaned text\n",
    "        self.text = soup.body.get_text(separator=\"\\n\", strip=True)       "
   ]
  },
  {
   "cell_type": "code",
   "execution_count": 71,
   "id": "edff3d6c-a6ef-4c77-9c04-562963c8da94",
   "metadata": {},
   "outputs": [
    {
     "name": "stdout",
     "output_type": "stream",
     "text": [
      "Title: Buy Cosmetics Products & Beauty Products Online in India at Best Price | Nykaa\n",
      "\n",
      "First 500 character:\n",
      " Up to 15% off\n",
      "Free Gifts On ₹2500+\n",
      "Flat 15% Off\n",
      "On M.A.C Foundation\n",
      "Up To 20% Off\n",
      "On Kay Bestsellers!\n",
      "Upto 20% Off\n",
      "On Bestseller!\n",
      "New Launch\n",
      "Bubble has landed\n",
      "Min 20% Off\n",
      "On Entire Range!\n",
      "Flat 50% Off\n",
      "*On Entire Range\n",
      "Up To 50% Off\n",
      "On Bestsellers\n",
      "Ends In:\n",
      "04h 54m 16s\n",
      "Only at ₹650/-\n",
      "10% Off on 1200+\n",
      "Flat 10% Off On Lips\n",
      "On ₹6000: 3 Free Gifts\n",
      "Up To 20% Off\n",
      "On Entire Brand!\n",
      "Up To 30% Off\n",
      "On Trending Makeup!\n",
      "With 7 Natural Oils\n",
      "For All Hair Types!\n",
      "AHA 30% + BHA 2%\n",
      "For clear pores & even tone\n",
      "Gifts \n"
     ]
    }
   ],
   "source": [
    "site = WebsiteSel(\"https://nykaa.com\", driver_path=\"/Users/rahulrajrana/Downloads/chromedriver-mac-arm64/chromedriver\")\n",
    "print(\"Title:\", site.title)\n",
    "print(\"\\nFirst 500 character:\\n\", site.text[:500])"
   ]
  },
  {
   "cell_type": "code",
   "execution_count": 47,
   "id": "abdb8417-c5dc-44bc-9bee-2e059d162699",
   "metadata": {},
   "outputs": [],
   "source": [
    "# Define our system prompt\"\n",
    "\n",
    "system_prompt = \"You are a helpful shopping assistant. \\\n",
    "Your job is to read product webpage content and explain it to a shopper in clear, simple language. \\\n",
    "Always provide a decision guide with key features, pros and cons, who the product is best for, and a short verdict. \\\n",
    "Keep the tone neutral, practical, and easy to scan.\\\n",
    "Respond in markdown.\""
   ]
  },
  {
   "cell_type": "code",
   "execution_count": 68,
   "id": "f0275b1b-7cfe-4f9d-abfa-7650d378da0c",
   "metadata": {},
   "outputs": [],
   "source": [
    "# A function that writes a User Prompt that asks for summaries of websites:\n",
    "\n",
    "def user_prompt_for(website):\n",
    "    user_prompt = f\"You are looking at a website titled {website.title}\"\n",
    "    user_prompt += f\"\"\"\n",
    "Read the following product webpage content and generate a shopping decision guide. \n",
    "\n",
    "Use this structure:\n",
    "\n",
    "Product: <name/category>  \n",
    "Key Features:  \n",
    "- ...  \n",
    "Pros:  \n",
    "- ...  \n",
    "Cons:  \n",
    "- ...  \n",
    "Best For:  \n",
    "- ...  \n",
    "Verdict:  \n",
    "- ...  \"\"\"\n",
    "    user_prompt += website.text\n",
    "    return user_prompt"
   ]
  },
  {
   "cell_type": "code",
   "execution_count": 69,
   "id": "26448ec4-5c00-4204-baec-7df91d11ff2e",
   "metadata": {
    "scrolled": true
   },
   "outputs": [
    {
     "name": "stdout",
     "output_type": "stream",
     "text": [
      "You are looking at a website titled No title found\n",
      "Read the following product webpage content and generate a shopping decision guide. \n",
      "\n",
      "Use this structure:\n",
      "\n",
      "Product: <name/category>  \n",
      "Key Features:  \n",
      "- ...  \n",
      "Pros:  \n",
      "- ...  \n",
      "Cons:  \n",
      "- ...  \n",
      "Best For:  \n",
      "- ...  \n",
      "Verdict:  \n",
      "- ...  \n"
     ]
    }
   ],
   "source": [
    "print(user_prompt_for(site))"
   ]
  },
  {
   "cell_type": "markdown",
   "id": "d06e8d78-ce4c-4b05-aa8e-17050c82bb47",
   "metadata": {},
   "source": [
    "## And now let's build useful messages for GPT-4o-mini, using a function"
   ]
  },
  {
   "cell_type": "code",
   "execution_count": 53,
   "id": "0134dfa4-8299-48b5-b444-f2a8c3403c88",
   "metadata": {},
   "outputs": [],
   "source": [
    "# See how this function creates exactly the format above\n",
    "\n",
    "def messages_for(website):\n",
    "    return [\n",
    "        {\"role\": \"system\", \"content\": system_prompt},\n",
    "        {\"role\": \"user\", \"content\": user_prompt_for(website)}\n",
    "    ]"
   ]
  },
  {
   "cell_type": "code",
   "execution_count": 72,
   "id": "36478464-39ee-485c-9f3f-6a4e458dbc9c",
   "metadata": {},
   "outputs": [
    {
     "data": {
      "text/plain": [
       "[{'role': 'system',\n",
       "  'content': 'You are a helpful shopping assistant. Your job is to read product webpage content and explain it to a shopper in clear, simple language. Always provide a decision guide with key features, pros and cons, who the product is best for, and a short verdict. Keep the tone neutral, practical, and easy to scan.Respond in markdown.'},\n",
       " {'role': 'user',\n",
       "  'content': 'You are looking at a website titled Buy Cosmetics Products & Beauty Products Online in India at Best Price | Nykaa\\nRead the following product webpage content and generate a shopping decision guide. \\n\\nUse this structure:\\n\\nProduct: <name/category>  \\nKey Features:  \\n- ...  \\nPros:  \\n- ...  \\nCons:  \\n- ...  \\nBest For:  \\n- ...  \\nVerdict:  \\n- ...  Up to 15% off\\nFree Gifts On ₹2500+\\nFlat 15% Off\\nOn M.A.C Foundation\\nUp To 20% Off\\nOn Kay Bestsellers!\\nUpto 20% Off\\nOn Bestseller!\\nNew Launch\\nBubble has landed\\nMin 20% Off\\nOn Entire Range!\\nFlat 50% Off\\n*On Entire Range\\nUp To 50% Off\\nOn Bestsellers\\nEnds In:\\n04h 54m 16s\\nOnly at ₹650/-\\n10% Off on 1200+\\nFlat 10% Off On Lips\\nOn ₹6000: 3 Free Gifts\\nUp To 20% Off\\nOn Entire Brand!\\nUp To 30% Off\\nOn Trending Makeup!\\nWith 7 Natural Oils\\nFor All Hair Types!\\nAHA 30% + BHA 2%\\nFor clear pores & even tone\\nGifts on ₹3500\\nNourishes & Protects\\nUpto 5% off\\nOn Bestseller!\\nNykaa - The Online Beauty Store\\nExclusive Offers On App!\\nGet Extra 20% off On Your First App Order\\nHow may we help you'}]"
      ]
     },
     "execution_count": 72,
     "metadata": {},
     "output_type": "execute_result"
    }
   ],
   "source": [
    "# Try this out, and then try for a few more websites\n",
    "\n",
    "messages_for(site)"
   ]
  },
  {
   "cell_type": "markdown",
   "id": "16f49d46-bf55-4c3e-928f-68fc0bf715b0",
   "metadata": {},
   "source": [
    "## Time to bring it together - the API for OpenAI!"
   ]
  },
  {
   "cell_type": "code",
   "execution_count": 73,
   "id": "905b9919-aba7-45b5-ae65-81b3d1d78e34",
   "metadata": {},
   "outputs": [],
   "source": [
    "# And now: call the OpenAI API. You will get very familiar with this!\n",
    "\n",
    "def summarize(url):\n",
    "    website = WebsiteSel(url,driver_path=\"/Users/rahulrajrana/Downloads/chromedriver-mac-arm64/chromedriver\")\n",
    "    response = openai.chat.completions.create(\n",
    "        model = \"gpt-4o-mini\",\n",
    "        messages = messages_for(website)\n",
    "    )\n",
    "    return response.choices[0].message.content"
   ]
  },
  {
   "cell_type": "code",
   "execution_count": 62,
   "id": "05e38d41-dfa4-4b20-9c96-c46ea75d9fb5",
   "metadata": {},
   "outputs": [
    {
     "data": {
      "text/plain": [
       "'## Product: Cosmetics and Beauty Products\\n\\n### Key Features:\\n- Wide range of products available from various brands.\\n- Discounts up to 50% on selected items, including bestsellers.\\n- Offers free gifts on purchases over ₹2500 or ₹3500.\\n- New launches available, ensuring access to the latest trends.\\n- Special deals including up to 30% off on trending makeup and flat rates like 10% off on lips.\\n- Product range includes items suitable for all hair types with nourishing ingredients.\\n\\n### Pros:\\n- Competitive pricing with frequent sales and discounts.\\n- Promotions that include attractive free gifts, enhancing the shopping experience.\\n- A diverse selection of beauty products catering to different needs and preferences.\\n- Easy access to both bestselling and new arrivals in the beauty industry.\\n\\n### Cons:\\n- Discounts may apply only for a limited time, creating urgency for buyers.\\n- Minimum purchase amounts required to obtain free gifts may deter some shoppers.\\n- Potential for overwhelming choices due to the vast selection available.\\n\\n### Best For:\\n- Beauty enthusiasts looking for a variety of cosmetics and personal care products.\\n- Shoppers seeking good deals and discounts on popular brands.\\n- Individuals wanting to try new products with the opportunity for free gifts on larger purchases.\\n\\n### Verdict:\\nNykaa offers an extensive selection of cosmetics and beauty products at competitive prices, backed by attractive discounts and promotional deals. It is an ideal shopping destination for anyone looking to enhance their beauty routine and discover new products. Whether you’re stocking up on essentials or treating yourself to the latest trends, Nykaa provides a convenient and enjoyable shopping experience.'"
      ]
     },
     "execution_count": 62,
     "metadata": {},
     "output_type": "execute_result"
    }
   ],
   "source": [
    "summarize(\"https://nykaa.com\")"
   ]
  },
  {
   "cell_type": "code",
   "execution_count": 74,
   "id": "3d926d59-450e-4609-92ba-2d6f244f1342",
   "metadata": {},
   "outputs": [],
   "source": [
    "# A function to display this nicely in the Jupyter output, using markdown\n",
    "\n",
    "def display_summary(url):\n",
    "    summary = summarize(url)\n",
    "    display(Markdown(summary))"
   ]
  },
  {
   "cell_type": "code",
   "execution_count": 75,
   "id": "3018853a-445f-41ff-9560-d925d1774b2f",
   "metadata": {},
   "outputs": [
    {
     "data": {
      "text/markdown": [
       "# Shopping Decision Guide\n",
       "\n",
       "**Product:** Cosmetics Products & Beauty Products\n",
       "\n",
       "**Key Features:**\n",
       "- Wide range of products available, including makeup, skincare, and haircare.\n",
       "- Special promotions like up to 50% off on bestsellers and flat discounts on specific brands.\n",
       "- Offers free gifts for purchases over certain amounts (₹2500 and ₹6000).\n",
       "- Trending makeup at discounted rates (up to 30% off).\n",
       "- Products are suitable for various needs (e.g., for all hair types, pore clearing).\n",
       "\n",
       "**Pros:**\n",
       "- Competitive prices and frequent sales give good value.\n",
       "- Exclusive brands and new launches available for trendy options.\n",
       "- Offers promotions and bundles, which can enhance the shopping experience.\n",
       "- Free shipping and gifts on larger purchases incentivize buying more.\n",
       "\n",
       "**Cons:**\n",
       "- Discounts are often time-limited (e.g., ending in hours), requiring quick decisions.\n",
       "- Stock may vary, and popular items can sell out quickly.\n",
       "- The sheer variety might make it overwhelming for some shoppers.\n",
       "\n",
       "**Best For:**\n",
       "- Beauty enthusiasts looking for a diverse selection of cosmetics and skincare products.\n",
       "- Shoppers who enjoy finding good deals and discounts on popular brands.\n",
       "- Individuals seeking gifts or special offers for themselves or others.\n",
       "\n",
       "**Verdict:**\n",
       "- Nykaa offers an extensive range of beauty products at competitive prices with excellent promotional offers. It's a great option for anyone interested in cosmetics, skincare, and haircare, particularly those who are looking to save money through discounts and free gifts. However, it's advisable to act quickly on deals to avoid missing out."
      ],
      "text/plain": [
       "<IPython.core.display.Markdown object>"
      ]
     },
     "metadata": {},
     "output_type": "display_data"
    }
   ],
   "source": [
    "display_summary(\"https://nykaa.com/\")"
   ]
  },
  {
   "cell_type": "markdown",
   "id": "b3bcf6f4-adce-45e9-97ad-d9a5d7a3a624",
   "metadata": {},
   "source": [
    "# Let's try more websites\n",
    "\n",
    "Note that this will only work on websites that can be scraped using this simplistic approach.\n",
    "\n",
    "Websites that are rendered with Javascript, like React apps, won't show up. \n",
    "\n",
    "But many websites will work just fine!"
   ]
  },
  {
   "cell_type": "code",
   "execution_count": 77,
   "id": "45d83403-a24c-44b5-84ac-961449b4008f",
   "metadata": {},
   "outputs": [
    {
     "data": {
      "text/markdown": [
       "# Shopping Decision Guide: boAt Rockerz 480 Bluetooth Headphones\n",
       "\n",
       "**Product:** boAt Rockerz 480 Bluetooth Over Ear Headphones\n",
       "\n",
       "### Key Features:\n",
       "- **RGB LEDs with 6 Modes:** Customizable LED lights to enhance your audio experience.\n",
       "- **BEAST Mode:** Reduces latency to 40 ms for gaming, ensuring a smooth experience.\n",
       "- **60 Hours Playback:** Long battery life, allowing for extended use without frequent charging.\n",
       "- **40 mm Drivers:** Delivers a bass-heavy sound for rich audio quality.\n",
       "- **ENx Technology:** Enhances call clarity by minimizing background noise.\n",
       "- **Dual Pairing:** Connects to two devices simultaneously, ideal for multitasking.\n",
       "- **Bluetooth v5.3:** Ensures a stable and efficient wireless connection.\n",
       "- **Adaptive Fit:** Comfortable design for extended wear.\n",
       "- **Easy Access Controls:** Manage calls and audio quickly and easily.\n",
       "- **Voice Assistant Compatibility:** Supports Google Assistant and Siri for hands-free operation.\n",
       "\n",
       "### Pros:\n",
       "- Impressive battery life of up to 60 hours.\n",
       "- Good sound quality with a focus on bass.\n",
       "- Stylish design with customizable LED lights.\n",
       "- Comfortable for prolonged use due to adaptive fit.\n",
       "- Fast and stable Bluetooth connection.\n",
       "\n",
       "### Cons:\n",
       "- Build quality may feel a bit plastic-y to some users.\n",
       "- Background noise may occasionally interfere with call clarity, despite ENx technology.\n",
       "- A few users felt sound quality could improve with an equalizer.\n",
       "\n",
       "### Best For:\n",
       "- Gamers seeking low-latency audio for enhanced gameplay.\n",
       "- Music lovers looking for budget-friendly headphones with good sound quality.\n",
       "- Anyone needing comfortable headphones for long listening sessions or calls.\n",
       "- Those wanting headphones that can connect to multiple devices simultaneously.\n",
       "\n",
       "### Verdict:\n",
       "The boAt Rockerz 480 headphones offer a compelling mix of excellent battery life, vibrant sound quality, and usability features like dual pairing and voice assistant compatibility. While they may have some minor drawbacks in build quality and sound tuning for specific genres, their overall performance and comfort make them a great choice for gamers, music enthusiasts, or anyone needing reliable wireless headphones on a budget. \n",
       "\n",
       "**Overall Rating:** 4.1 out of 5 stars from over 2,100 ratings."
      ],
      "text/plain": [
       "<IPython.core.display.Markdown object>"
      ]
     },
     "metadata": {},
     "output_type": "display_data"
    }
   ],
   "source": [
    "display_summary(\"https://www.amazon.in/boAt-Rockerz-480-Bluetooth-Headphones/dp/B0DGTSRX3R/ref=sr_1_4?_encoding=UTF8&content-id=amzn1.sym.f5d6180d-d975-4dbf-90a0-e12c627a7820&dib=eyJ2IjoiMSJ9.FxruVmk1CFBRRSpxWp9ryFm3c3a9zDqlDwLf2RM0QxzS6xvhWPAxoVhFYQATslvl1W57IvP9TSf0x4rdC52Zaz1adrYJHdqWIvgc-tn8_kU7EB1-g9Adl9b2f323kEr5E2sza12qpcf6jOfZ2PCP8Nt1mUYGtZJxqbBXXMO3_nMSM9CY9Xe6Rl-ewCtVm2rpY261U5Kb5Z6CXgEfWV56d6JHtBxrssqf-Z3j08Bj9g_qoKFft1QCamuM1XGGt_CKxBF1Q3bB9_4E4cvVWkZfPNEuX7JQ5fMYTP3t7iCTIP8.yuFJrOJ_hYPFvXNt-4RpdHKEt7pwP-6fS4kox5j9dmo&dib_tag=se&pd_rd_r=403a0988-23a6-4502-b268-73925227a2f5&pd_rd_w=hS00c&pd_rd_wg=CzLCv&qid=1755801463&sr=8-4&th=1\")"
   ]
  },
  {
   "cell_type": "markdown",
   "id": "610d0e00-b652-4b1d-a54b-00b24809c838",
   "metadata": {},
   "source": [
    "# Even converts Hindi News to it's English Equivalent Summary"
   ]
  },
  {
   "cell_type": "code",
   "execution_count": 27,
   "id": "75e9fd40-b354-4341-991e-863ef2e59db7",
   "metadata": {},
   "outputs": [
    {
     "data": {
      "text/markdown": [
       "# Summary of Dainik Bhaskar Website\n",
       "\n",
       "Dainik Bhaskar is a comprehensive Hindi news website providing the latest updates on various topics, including politics, sports, entertainment, and lifestyle. The site offers real-time news coverage, videos, and special features on trending issues.\n",
       "\n",
       "## Key Highlights:\n",
       "\n",
       "- **Political News**: The site discusses significant political events like recent bills introduced in the Lok Sabha, including a bill that could lead to the removal of PM or CM upon arrest. There were also incidents of opposition protests where paper balls were thrown in Parliament.\n",
       "\n",
       "- **Crime and Legal Matters**: Reports cover alarming incidents, such as an attack on Delhi's Chief Minister and issues surrounding migrant workers in Delhi-NCR. The aftermath of natural disasters, such as fatalities caused by cloudbursts in Kishtwar, is also highlighted.\n",
       "\n",
       "- **Sports Updates**: Cricket features prominently, including discussions about India's team composition for the Asia Cup, and controversies surrounding the rankings of players like Rohit Sharma and Virat Kohli.\n",
       "\n",
       "- **Business News**: Developments in the business world include the potential banning of online gaming sponsors and updates related to job recruitment in banks.\n",
       "\n",
       "- **Lifestyle Articles**: Content spans lifestyle tips and relationship advice, focusing on the well-being of readers.\n",
       "\n",
       "- **Trending Topics**: The site reports on various trending topics like the ongoing Russia-Ukraine war, the political landscape in Maharashtra, and unique stories captivating audience interest.\n",
       "\n",
       "Overall, Dainik Bhaskar serves as a key source of information for Hindi-speaking audiences seeking diverse news coverage from local to international events."
      ],
      "text/plain": [
       "<IPython.core.display.Markdown object>"
      ]
     },
     "metadata": {},
     "output_type": "display_data"
    }
   ],
   "source": [
    "display_summary(\"https://bhaskar.com\")"
   ]
  },
  {
   "cell_type": "code",
   "execution_count": null,
   "id": "f4484fcf-8b39-4c3f-9674-37970ed71988",
   "metadata": {},
   "outputs": [],
   "source": []
  }
 ],
 "metadata": {
  "kernelspec": {
   "display_name": "Python 3 (ipykernel)",
   "language": "python",
   "name": "python3"
  },
  "language_info": {
   "codemirror_mode": {
    "name": "ipython",
    "version": 3
   },
   "file_extension": ".py",
   "mimetype": "text/x-python",
   "name": "python",
   "nbconvert_exporter": "python",
   "pygments_lexer": "ipython3",
   "version": "3.11.13"
  }
 },
 "nbformat": 4,
 "nbformat_minor": 5
}
