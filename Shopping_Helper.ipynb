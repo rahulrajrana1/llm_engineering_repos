{
 "cells": [
  {
   "cell_type": "code",
   "execution_count": 1,
   "id": "4e2a9393-7767-488e-a8bf-27c12dca35bd",
   "metadata": {},
   "outputs": [],
   "source": [
    "# imports\n",
    "\n",
    "import os\n",
    "import requests\n",
    "from dotenv import load_dotenv\n",
    "from bs4 import BeautifulSoup\n",
    "from IPython.display import Markdown, display\n",
    "from openai import OpenAI\n",
    "\n",
    "# If you get an error running this cell, then please head over to the troubleshooting notebook!"
   ]
  },
  {
   "cell_type": "markdown",
   "id": "6900b2a8-6384-4316-8aaa-5e519fca4254",
   "metadata": {},
   "source": [
    "# Connecting to OpenAI\n",
    "\n",
    "The next cell is where we load in the environment variables in your `.env` file and connect to OpenAI.  \n"
   ]
  },
  {
   "cell_type": "code",
   "execution_count": 3,
   "id": "7b87cadb-d513-4303-baee-a37b6f938e4d",
   "metadata": {},
   "outputs": [
    {
     "name": "stdout",
     "output_type": "stream",
     "text": [
      "API key found and looks good so far!\n"
     ]
    }
   ],
   "source": [
    "# Load environment variables in a file called .env\n",
    "\n",
    "load_dotenv(override=True)\n",
    "api_key = os.getenv('OPENAI_API_KEY')\n",
    "\n",
    "# Check the key\n",
    "\n",
    "if not api_key:\n",
    "    print(\"No API key was found - please head over to the troubleshooting notebook in this folder to identify & fix!\")\n",
    "elif not api_key.startswith(\"sk-proj-\"):\n",
    "    print(\"An API key was found, but it doesn't start sk-proj-; please check you're using the right key - see troubleshooting notebook\")\n",
    "elif api_key.strip() != api_key:\n",
    "    print(\"An API key was found, but it looks like it might have space or tab characters at the start or end - please remove them - see troubleshooting notebook\")\n",
    "else:\n",
    "    print(\"API key found and looks good so far!\")\n"
   ]
  },
  {
   "cell_type": "code",
   "execution_count": 4,
   "id": "019974d9-f3ad-4a8a-b5f9-0a3719aea2d3",
   "metadata": {},
   "outputs": [],
   "source": [
    "openai = OpenAI()\n",
    "\n",
    "# If this doesn't work, try Kernel menu >> Restart Kernel and Clear Outputs Of All Cells, then run the cells from the top of this notebook down.\n",
    "# If it STILL doesn't work (horrors!) then please see the Troubleshooting notebook in this folder for full instructions"
   ]
  },
  {
   "cell_type": "markdown",
   "id": "442fc84b-0815-4f40-99ab-d9a5da6bda91",
   "metadata": {},
   "source": [
    "# Let's make a quick call to a model to get started"
   ]
  },
  {
   "cell_type": "code",
   "execution_count": 5,
   "id": "a58394bf-1e45-46af-9bfd-01e24da6f49a",
   "metadata": {},
   "outputs": [
    {
     "name": "stdout",
     "output_type": "stream",
     "text": [
      "Hello! Welcome! I'm glad to hear from you. How can I assist you today?\n"
     ]
    }
   ],
   "source": [
    "# To give you a preview -- calling OpenAI with these messages is this easy. Any problems, head over to the Troubleshooting notebook.\n",
    "\n",
    "message = \"Hello, GPT! This is my first ever message to you! Hi!\"\n",
    "response = openai.chat.completions.create(model=\"gpt-4o-mini\", messages=[{\"role\":\"user\", \"content\":message}])\n",
    "print(response.choices[0].message.content)"
   ]
  },
  {
   "cell_type": "code",
   "execution_count": 7,
   "id": "8f066048-f4c0-4c67-8b2d-14bf4b8b8158",
   "metadata": {},
   "outputs": [
    {
     "name": "stdout",
     "output_type": "stream",
     "text": [
      "ChatCompletion(id='chatcmpl-C6es3A7o3gnFjmB4CgGxHXirKhSdc', choices=[Choice(finish_reason='stop', index=0, logprobs=None, message=ChatCompletionMessage(content=\"Hello! Welcome! I'm glad you're here. How can I assist you today?\", refusal=None, role='assistant', annotations=[], audio=None, function_call=None, tool_calls=None))], created=1755703111, model='gpt-4o-mini-2024-07-18', object='chat.completion', service_tier='default', system_fingerprint='fp_560af6e559', usage=CompletionUsage(completion_tokens=16, prompt_tokens=22, total_tokens=38, completion_tokens_details=CompletionTokensDetails(accepted_prediction_tokens=0, audio_tokens=0, reasoning_tokens=0, rejected_prediction_tokens=0), prompt_tokens_details=PromptTokensDetails(audio_tokens=0, cached_tokens=0)))\n"
     ]
    }
   ],
   "source": [
    "print(response)"
   ]
  },
  {
   "cell_type": "markdown",
   "id": "2aa190e5-cb31-456a-96cc-db109919cd78",
   "metadata": {},
   "source": [
    "## Onwards with our first project"
   ]
  },
  {
   "cell_type": "code",
   "execution_count": 30,
   "id": "135f51f2-9153-45b2-8003-3ae025126ec7",
   "metadata": {
    "collapsed": true,
    "jupyter": {
     "outputs_hidden": true
    }
   },
   "outputs": [
    {
     "name": "stdout",
     "output_type": "stream",
     "text": [
      "Collecting selenium\n",
      "  Downloading selenium-4.35.0-py3-none-any.whl.metadata (7.4 kB)\n",
      "Requirement already satisfied: urllib3<3.0,>=2.5.0 in /opt/anaconda3/envs/llms/lib/python3.11/site-packages (from urllib3[socks]<3.0,>=2.5.0->selenium) (2.5.0)\n",
      "Collecting trio~=0.30.0 (from selenium)\n",
      "  Downloading trio-0.30.0-py3-none-any.whl.metadata (8.5 kB)\n",
      "Collecting trio-websocket~=0.12.2 (from selenium)\n",
      "  Downloading trio_websocket-0.12.2-py3-none-any.whl.metadata (5.1 kB)\n",
      "Requirement already satisfied: certifi>=2025.6.15 in /opt/anaconda3/envs/llms/lib/python3.11/site-packages (from selenium) (2025.8.3)\n",
      "Requirement already satisfied: typing_extensions~=4.14.0 in /opt/anaconda3/envs/llms/lib/python3.11/site-packages (from selenium) (4.14.1)\n",
      "Requirement already satisfied: websocket-client~=1.8.0 in /opt/anaconda3/envs/llms/lib/python3.11/site-packages (from selenium) (1.8.0)\n",
      "Requirement already satisfied: attrs>=23.2.0 in /opt/anaconda3/envs/llms/lib/python3.11/site-packages (from trio~=0.30.0->selenium) (25.3.0)\n",
      "Collecting sortedcontainers (from trio~=0.30.0->selenium)\n",
      "  Downloading sortedcontainers-2.4.0-py2.py3-none-any.whl.metadata (10 kB)\n",
      "Requirement already satisfied: idna in /opt/anaconda3/envs/llms/lib/python3.11/site-packages (from trio~=0.30.0->selenium) (3.10)\n",
      "Collecting outcome (from trio~=0.30.0->selenium)\n",
      "  Downloading outcome-1.3.0.post0-py2.py3-none-any.whl.metadata (2.6 kB)\n",
      "Requirement already satisfied: sniffio>=1.3.0 in /opt/anaconda3/envs/llms/lib/python3.11/site-packages (from trio~=0.30.0->selenium) (1.3.1)\n",
      "Collecting wsproto>=0.14 (from trio-websocket~=0.12.2->selenium)\n",
      "  Downloading wsproto-1.2.0-py3-none-any.whl.metadata (5.6 kB)\n",
      "Requirement already satisfied: pysocks!=1.5.7,<2.0,>=1.5.6 in /opt/anaconda3/envs/llms/lib/python3.11/site-packages (from urllib3[socks]<3.0,>=2.5.0->selenium) (1.7.1)\n",
      "Requirement already satisfied: h11<1,>=0.9.0 in /opt/anaconda3/envs/llms/lib/python3.11/site-packages (from wsproto>=0.14->trio-websocket~=0.12.2->selenium) (0.16.0)\n",
      "Downloading selenium-4.35.0-py3-none-any.whl (9.6 MB)\n",
      "\u001b[2K   \u001b[90m━━━━━━━━━━━━━━━━━━━━━━━━━━━━━━━━━━━━━━━━\u001b[0m \u001b[32m9.6/9.6 MB\u001b[0m \u001b[31m25.0 MB/s\u001b[0m  \u001b[33m0:00:00\u001b[0m eta \u001b[36m0:00:01\u001b[0m\n",
      "\u001b[?25hDownloading trio-0.30.0-py3-none-any.whl (499 kB)\n",
      "Downloading trio_websocket-0.12.2-py3-none-any.whl (21 kB)\n",
      "Downloading outcome-1.3.0.post0-py2.py3-none-any.whl (10 kB)\n",
      "Downloading wsproto-1.2.0-py3-none-any.whl (24 kB)\n",
      "Downloading sortedcontainers-2.4.0-py2.py3-none-any.whl (29 kB)\n",
      "Installing collected packages: sortedcontainers, wsproto, outcome, trio, trio-websocket, selenium\n",
      "\u001b[2K   \u001b[90m━━━━━━━━━━━━━━━━━━━━━━━━━━━━━━━━━━━━━━━━\u001b[0m \u001b[32m6/6\u001b[0m [selenium]5/6\u001b[0m [selenium]\n",
      "\u001b[1A\u001b[2KSuccessfully installed outcome-1.3.0.post0 selenium-4.35.0 sortedcontainers-2.4.0 trio-0.30.0 trio-websocket-0.12.2 wsproto-1.2.0\n"
     ]
    }
   ],
   "source": [
    "!pip install selenium"
   ]
  },
  {
   "cell_type": "code",
   "execution_count": 31,
   "id": "788b5c0f-4236-4191-a9dd-3aa8ac4b83f5",
   "metadata": {
    "collapsed": true,
    "jupyter": {
     "outputs_hidden": true
    }
   },
   "outputs": [
    {
     "name": "stdout",
     "output_type": "stream",
     "text": [
      "Collecting webdriver-manager\n",
      "  Downloading webdriver_manager-4.0.2-py2.py3-none-any.whl.metadata (12 kB)\n",
      "Requirement already satisfied: requests in /opt/anaconda3/envs/llms/lib/python3.11/site-packages (from webdriver-manager) (2.32.5)\n",
      "Requirement already satisfied: python-dotenv in /opt/anaconda3/envs/llms/lib/python3.11/site-packages (from webdriver-manager) (1.1.1)\n",
      "Requirement already satisfied: packaging in /opt/anaconda3/envs/llms/lib/python3.11/site-packages (from webdriver-manager) (25.0)\n",
      "Requirement already satisfied: charset_normalizer<4,>=2 in /opt/anaconda3/envs/llms/lib/python3.11/site-packages (from requests->webdriver-manager) (3.4.3)\n",
      "Requirement already satisfied: idna<4,>=2.5 in /opt/anaconda3/envs/llms/lib/python3.11/site-packages (from requests->webdriver-manager) (3.10)\n",
      "Requirement already satisfied: urllib3<3,>=1.21.1 in /opt/anaconda3/envs/llms/lib/python3.11/site-packages (from requests->webdriver-manager) (2.5.0)\n",
      "Requirement already satisfied: certifi>=2017.4.17 in /opt/anaconda3/envs/llms/lib/python3.11/site-packages (from requests->webdriver-manager) (2025.8.3)\n",
      "Downloading webdriver_manager-4.0.2-py2.py3-none-any.whl (27 kB)\n",
      "Installing collected packages: webdriver-manager\n",
      "Successfully installed webdriver-manager-4.0.2\n"
     ]
    }
   ],
   "source": [
    "!pip install webdriver-manager"
   ]
  },
  {
   "cell_type": "code",
   "execution_count": 42,
   "id": "9121068f-457b-4571-9f0b-789553f76221",
   "metadata": {},
   "outputs": [],
   "source": [
    "from selenium import webdriver\n",
    "from selenium.webdriver.chrome.options import Options\n",
    "from selenium.webdriver.chrome.service import Service\n",
    "from bs4 import BeautifulSoup\n",
    "import time\n",
    "import os \n",
    "\n",
    "class WebsiteSel:\n",
    "    def __init__(self, url, driver_path=None, wait_time=3):\n",
    "        self.url = url\n",
    "        self.wait_time = wait_time\n",
    "\n",
    "        # Headless Chrome settings\n",
    "        options = Options()\n",
    "        # options.add_argument(\"--headless\")  \n",
    "        # Headless mode runs the browser in the background (invisible).\n",
    "        # However, some websites (like openai.com) block headless browsers.\n",
    "        # So if this line is active, the page may not load correctly and you may not get the full content.\n",
    "        options.add_argument(\"--disable-gpu\")\n",
    "        options.add_argument(\"--no-sandbox\")\n",
    "        options.add_argument(\"--window-size=1920x1080\")\n",
    "\n",
    "        # Driver path\n",
    "        if driver_path:\n",
    "            service = Service(executable_path=driver_path)\n",
    "        else:\n",
    "            service = Service() \n",
    "\n",
    "        # Start browser\n",
    "        driver = webdriver.Chrome(service=service, options=options)\n",
    "        driver.get(url)\n",
    "\n",
    "        # Wait for the loading page\n",
    "        time.sleep(self.wait_time)\n",
    "\n",
    "        # Take page source\n",
    "        html = driver.page_source\n",
    "        driver.quit()\n",
    "\n",
    "        # Analysis with BeautifulSoup \n",
    "        soup = BeautifulSoup(html, 'html.parser')\n",
    "        self.title = soup.title.string if soup.title else \"No title found\"\n",
    "\n",
    "        # # Clean irrelevant tags\n",
    "        # for irrelevant in soup.body([\"script\", \"style\", \"img\", \"input\"]):\n",
    "        #     irrelevant.decompose()\n",
    "        # # Remove irrelevant tags: scripts, styles, images, inputs, navs, footers, headers, and asides\n",
    "        for irrelevant in soup.body([\"script\", \"style\", \"img\", \"input\", \"nav\", \"footer\", \"header\", \"aside\"]):\n",
    "            irrelevant.decompose()\n",
    "        \n",
    "        # Remove common ad containers (classes and IDs often used for ads/boilerplate)\n",
    "        for ad in soup.body.find_all(attrs={\n",
    "            \"class\": [\"ad\", \"ads\", \"advertisement\", \"sponsored\", \"promo\", \"banner\", \"cookie-consent\"],\n",
    "            \"id\": [\"ad\", \"ads\", \"advertisement\", \"sponsored\", \"promo\", \"banner\", \"cookie-consent\"]\n",
    "        }):\n",
    "            ad.decompose()\n",
    "        \n",
    "        # Remove repetitive boilerplate sections (menus, sidebars, etc.)\n",
    "        for boilerplate in soup.body.find_all(attrs={\n",
    "            \"class\": [\"sidebar\", \"menu\", \"navigation\", \"breadcrumb\", \"footer-links\"]\n",
    "        }):\n",
    "            boilerplate.decompose()\n",
    "        \n",
    "        # Now extract cleaned text\n",
    "        self.text = soup.body.get_text(separator=\"\\n\", strip=True)       "
   ]
  },
  {
   "cell_type": "code",
   "execution_count": 44,
   "id": "edff3d6c-a6ef-4c77-9c04-562963c8da94",
   "metadata": {},
   "outputs": [
    {
     "name": "stdout",
     "output_type": "stream",
     "text": [
      "Title: Buy Cosmetics Products & Beauty Products Online in India at Best Price | Nykaa\n",
      "\n",
      "First 500 character:\n",
      " Up To 20% Off\n",
      "On Kay Bestsellers!\n",
      "Up to 15% off\n",
      "Free Gifts On ₹2500+\n",
      "Flat 50% Off\n",
      "*On Entire Range\n",
      "Upto 20% Off\n",
      "On Bestseller!\n",
      "New Launch\n",
      "Bubble has landed\n",
      "Flat 15% Off\n",
      "On M.A.C Foundation\n",
      "Min 20% Off\n",
      "On Entire Range!\n",
      "Up To 50% Off\n",
      "On Bestsellers\n",
      "Flat 10% Off On Lips\n",
      "On ₹6000: 3 Free Gifts\n",
      "Up To 30% Off\n",
      "On Trending Makeup!\n",
      "Gifts on ₹3500\n",
      "Nourishes & Protects\n",
      "Only at ₹650/-\n",
      "10% Off on 1200+\n",
      "AHA 30% + BHA 2%\n",
      "For clear pores & even tone\n",
      "With 7 Natural Oils\n",
      "For All Hair Types!\n",
      "Up To 20% Off\n",
      "On Entir\n"
     ]
    }
   ],
   "source": [
    "site = WebsiteSel(\"https://nykaa.com\", driver_path=\"/Users/rahulrajrana/Downloads/chromedriver-mac-arm64/chromedriver\")\n",
    "print(\"Title:\", site.title)\n",
    "print(\"\\nFirst 500 character:\\n\", site.text[:500])"
   ]
  },
  {
   "cell_type": "code",
   "execution_count": 15,
   "id": "c5e793b2-6775-426a-a139-4848291d0463",
   "metadata": {},
   "outputs": [],
   "source": [
    "# A class to represent a Webpage\n",
    "# If you're not familiar with Classes, check out the \"Intermediate Python\" notebook\n",
    "\n",
    "# Some websites need you to use proper headers when fetching them:\n",
    "headers = {\n",
    " \"User-Agent\": \"Mozilla/5.0 (Windows NT 10.0; Win64; x64) AppleWebKit/537.36 (KHTML, like Gecko) Chrome/117.0.0.0 Safari/537.36\"\n",
    "}\n",
    "\n",
    "class Website:\n",
    "\n",
    "    def __init__(self, url):\n",
    "        \"\"\"\n",
    "        Create this Website object from the given url using the BeautifulSoup library\n",
    "        \"\"\"\n",
    "        self.url = url\n",
    "        response = requests.get(url, headers=headers)\n",
    "        soup = BeautifulSoup(response.content, 'html.parser')\n",
    "        self.title = soup.title.string if soup.title else \"No title found\"\n",
    "        # Remove irrelevant tags: scripts, styles, images, inputs, navs, footers, headers, and asides\n",
    "        for irrelevant in soup.body([\"script\", \"style\", \"img\", \"input\", \"nav\", \"footer\", \"header\", \"aside\"]):\n",
    "            irrelevant.decompose()\n",
    "        \n",
    "        Remove common ad containers (classes and IDs often used for ads/boilerplate)\n",
    "        for ad in soup.body.find_all(attrs={\n",
    "            \"class\": [\"ad\", \"ads\", \"advertisement\", \"sponsored\", \"promo\", \"banner\", \"cookie-consent\"],\n",
    "            \"id\": [\"ad\", \"ads\", \"advertisement\", \"sponsored\", \"promo\", \"banner\", \"cookie-consent\"]\n",
    "        }):\n",
    "            ad.decompose()\n",
    "        \n",
    "        # Remove repetitive boilerplate sections (menus, sidebars, etc.)\n",
    "        for boilerplate in soup.body.find_all(attrs={\n",
    "            \"class\": [\"sidebar\", \"menu\", \"navigation\", \"breadcrumb\", \"footer-links\"]\n",
    "        }):\n",
    "            boilerplate.decompose()\n",
    "        \n",
    "        Now extract cleaned text\n",
    "        self.text = soup.body.get_text(separator=\"\\n\", strip=True)"
   ]
  },
  {
   "cell_type": "code",
   "execution_count": 28,
   "id": "7b750f50-bc9d-4d63-86d7-7a260c824a81",
   "metadata": {},
   "outputs": [],
   "source": [
    "response = requests.get(url, headers=headers)\n",
    "soup = BeautifulSoup(response.content, 'html.parser')\n",
    "# self.title = soup.title.string if soup.title else \"No title found\"\n",
    "# # Remove irrelevant tags: scripts, styles, images, inputs, navs, footers, headers, and asides\n",
    "for irrelevant in soup.body([\"script\", \"style\", \"img\", \"input\", \"nav\", \"footer\", \"header\", \"aside\"]):\n",
    "    irrelevant.decompose()\n",
    "\n",
    "# Remove common ad containers (classes and IDs often used for ads/boilerplate)\n",
    "for ad in soup.body.find_all(attrs={\n",
    "    \"class\": [\"ad\", \"ads\", \"advertisement\", \"sponsored\", \"promo\", \"banner\", \"cookie-consent\"],\n",
    "    \"id\": [\"ad\", \"ads\", \"advertisement\", \"sponsored\", \"promo\", \"banner\", \"cookie-consent\"]\n",
    "}):\n",
    "    ad.decompose()\n",
    "\n",
    "# Remove repetitive boilerplate sections (menus, sidebars, etc.)\n",
    "for boilerplate in soup.body.find_all(attrs={\n",
    "    \"class\": [\"sidebar\", \"menu\", \"navigation\", \"breadcrumb\", \"footer-links\"]\n",
    "}):\n",
    "    boilerplate.decompose()\n",
    "\n",
    "# # Now extract cleaned text\n",
    "clean_text = soup.body.get_text(separator=\"\\n\", strip=True)"
   ]
  },
  {
   "cell_type": "code",
   "execution_count": 27,
   "id": "b33873ca-e066-4fc4-ade9-ca0dc7183242",
   "metadata": {},
   "outputs": [],
   "source": [
    "url = \"https://team-bhp.com\""
   ]
  },
  {
   "cell_type": "code",
   "execution_count": 51,
   "id": "2ef960cf-6dc2-4cda-afb3-b38be12f4c97",
   "metadata": {},
   "outputs": [
    {
     "name": "stdout",
     "output_type": "stream",
     "text": [
      "Buy Cosmetics Products & Beauty Products Online in India at Best Price | Nykaa\n",
      "New Launch\n",
      "Bubble has landed\n",
      "Flat 15% Off\n",
      "On M.A.C Foundation\n",
      "Up To 20% Off\n",
      "On Kay Bestsellers!\n",
      "Upto 20% Off\n",
      "On Bestseller!\n",
      "Up to 15% off\n",
      "Free Gifts On ₹2500+\n",
      "Min 20% Off\n",
      "On Entire Range!\n",
      "Flat 50% Off\n",
      "*On Entire Range\n",
      "Up To 50% Off\n",
      "On Bestsellers\n",
      "Ends In:\n",
      "08h 00m 54s\n",
      "Flat 10% Off On Lips\n",
      "On ₹6000: 3 Free Gifts\n",
      "Up To 20% Off\n",
      "On Entire Brand!\n",
      "Only at ₹650/-\n",
      "10% Off on 1200+\n",
      "Upto 5% off\n",
      "On Bestseller!\n",
      "Gifts on ₹3500\n",
      "Nourishes & Protects\n",
      "AHA 30% + BHA 2%\n",
      "For clear pores & even tone\n",
      "With 7 Natural Oils\n",
      "For All Hair Types!\n",
      "Up To 30% Off\n",
      "On Trending Makeup!\n",
      "Nykaa - The Online Beauty Store\n",
      "How may we help you\n"
     ]
    }
   ],
   "source": [
    "# Let's try one out. Change the website and add print statements to follow along.\n",
    "\n",
    "bhp = WebsiteSel(\"https://nykaa.com\",driver_path=\"/Users/rahulrajrana/Downloads/chromedriver-mac-arm64/chromedriver\")\n",
    "print(bhp.title)\n",
    "print(bhp.text)"
   ]
  },
  {
   "cell_type": "code",
   "execution_count": 47,
   "id": "abdb8417-c5dc-44bc-9bee-2e059d162699",
   "metadata": {},
   "outputs": [],
   "source": [
    "# Define our system prompt\"\n",
    "\n",
    "system_prompt = \"You are a helpful shopping assistant. \\\n",
    "Your job is to read product webpage content and explain it to a shopper in clear, simple language. \\\n",
    "Always provide a decision guide with key features, pros and cons, who the product is best for, and a short verdict. \\\n",
    "Keep the tone neutral, practical, and easy to scan.\\\n",
    "Respond in markdown.\""
   ]
  },
  {
   "cell_type": "code",
   "execution_count": 49,
   "id": "f0275b1b-7cfe-4f9d-abfa-7650d378da0c",
   "metadata": {},
   "outputs": [],
   "source": [
    "# A function that writes a User Prompt that asks for summaries of websites:\n",
    "\n",
    "def user_prompt_for(website):\n",
    "    user_prompt = f\"You are looking at a website titled {website.title}\"\n",
    "    user_prompt += f\"\"\"\n",
    "Read the following product webpage content and generate a shopping decision guide. \n",
    "\n",
    "Use this structure:\n",
    "\n",
    "Product: <name/category>  \n",
    "Key Features:  \n",
    "- ...  \n",
    "Pros:  \n",
    "- ...  \n",
    "Cons:  \n",
    "- ...  \n",
    "Best For:  \n",
    "- ...  \n",
    "Verdict:  \n",
    "- ...  \"\"\"\n",
    "    user_prompt += website.text\n",
    "    return user_prompt"
   ]
  },
  {
   "cell_type": "code",
   "execution_count": 52,
   "id": "26448ec4-5c00-4204-baec-7df91d11ff2e",
   "metadata": {
    "scrolled": true
   },
   "outputs": [
    {
     "name": "stdout",
     "output_type": "stream",
     "text": [
      "You are looking at a website titled Buy Cosmetics Products & Beauty Products Online in India at Best Price | Nykaa\n",
      "Read the following product webpage content and generate a shopping decision guide. \n",
      "\n",
      "Use this structure:\n",
      "\n",
      "Product: <name/category>  \n",
      "Key Features:  \n",
      "- ...  \n",
      "Pros:  \n",
      "- ...  \n",
      "Cons:  \n",
      "- ...  \n",
      "Best For:  \n",
      "- ...  \n",
      "Verdict:  \n",
      "- ...  New Launch\n",
      "Bubble has landed\n",
      "Flat 15% Off\n",
      "On M.A.C Foundation\n",
      "Up To 20% Off\n",
      "On Kay Bestsellers!\n",
      "Upto 20% Off\n",
      "On Bestseller!\n",
      "Up to 15% off\n",
      "Free Gifts On ₹2500+\n",
      "Min 20% Off\n",
      "On Entire Range!\n",
      "Flat 50% Off\n",
      "*On Entire Range\n",
      "Up To 50% Off\n",
      "On Bestsellers\n",
      "Ends In:\n",
      "08h 00m 54s\n",
      "Flat 10% Off On Lips\n",
      "On ₹6000: 3 Free Gifts\n",
      "Up To 20% Off\n",
      "On Entire Brand!\n",
      "Only at ₹650/-\n",
      "10% Off on 1200+\n",
      "Upto 5% off\n",
      "On Bestseller!\n",
      "Gifts on ₹3500\n",
      "Nourishes & Protects\n",
      "AHA 30% + BHA 2%\n",
      "For clear pores & even tone\n",
      "With 7 Natural Oils\n",
      "For All Hair Types!\n",
      "Up To 30% Off\n",
      "On Trending Makeup!\n",
      "Nykaa - The Online Beauty Store\n",
      "How may we help you\n"
     ]
    }
   ],
   "source": [
    "print(user_prompt_for(bhp))"
   ]
  },
  {
   "cell_type": "code",
   "execution_count": 16,
   "id": "f25dcd35-0cd0-4235-9f64-ac37ed9eaaa5",
   "metadata": {},
   "outputs": [],
   "source": [
    "messages = [\n",
    "    {\"role\": \"system\", \"content\": \"You are an angry assistant\"},\n",
    "    {\"role\": \"user\", \"content\": \"What is 2 * 2?\"}\n",
    "]"
   ]
  },
  {
   "cell_type": "code",
   "execution_count": 17,
   "id": "21ed95c5-7001-47de-a36d-1d6673b403ce",
   "metadata": {},
   "outputs": [
    {
     "name": "stdout",
     "output_type": "stream",
     "text": [
      "Seriously? It's 4. Everyone knows that.\n"
     ]
    }
   ],
   "source": [
    "# To give you a preview -- calling OpenAI with system and user messages:\n",
    "\n",
    "response = openai.chat.completions.create(model=\"gpt-4o-mini\", messages=messages)\n",
    "print(response.choices[0].message.content)"
   ]
  },
  {
   "cell_type": "markdown",
   "id": "d06e8d78-ce4c-4b05-aa8e-17050c82bb47",
   "metadata": {},
   "source": [
    "## And now let's build useful messages for GPT-4o-mini, using a function"
   ]
  },
  {
   "cell_type": "code",
   "execution_count": 53,
   "id": "0134dfa4-8299-48b5-b444-f2a8c3403c88",
   "metadata": {},
   "outputs": [],
   "source": [
    "# See how this function creates exactly the format above\n",
    "\n",
    "def messages_for(website):\n",
    "    return [\n",
    "        {\"role\": \"system\", \"content\": system_prompt},\n",
    "        {\"role\": \"user\", \"content\": user_prompt_for(website)}\n",
    "    ]"
   ]
  },
  {
   "cell_type": "code",
   "execution_count": 54,
   "id": "36478464-39ee-485c-9f3f-6a4e458dbc9c",
   "metadata": {},
   "outputs": [
    {
     "data": {
      "text/plain": [
       "[{'role': 'system',\n",
       "  'content': 'You are a helpful shopping assistant. Your job is to read product webpage content and explain it to a shopper in clear, simple language. Always provide a decision guide with key features, pros and cons, who the product is best for, and a short verdict. Keep the tone neutral, practical, and easy to scan.Respond in markdown.'},\n",
       " {'role': 'user',\n",
       "  'content': 'You are looking at a website titled Buy Cosmetics Products & Beauty Products Online in India at Best Price | Nykaa\\nRead the following product webpage content and generate a shopping decision guide. \\n\\nUse this structure:\\n\\nProduct: <name/category>  \\nKey Features:  \\n- ...  \\nPros:  \\n- ...  \\nCons:  \\n- ...  \\nBest For:  \\n- ...  \\nVerdict:  \\n- ...  New Launch\\nBubble has landed\\nFlat 15% Off\\nOn M.A.C Foundation\\nUp To 20% Off\\nOn Kay Bestsellers!\\nUpto 20% Off\\nOn Bestseller!\\nUp to 15% off\\nFree Gifts On ₹2500+\\nMin 20% Off\\nOn Entire Range!\\nFlat 50% Off\\n*On Entire Range\\nUp To 50% Off\\nOn Bestsellers\\nEnds In:\\n08h 00m 54s\\nFlat 10% Off On Lips\\nOn ₹6000: 3 Free Gifts\\nUp To 20% Off\\nOn Entire Brand!\\nOnly at ₹650/-\\n10% Off on 1200+\\nUpto 5% off\\nOn Bestseller!\\nGifts on ₹3500\\nNourishes & Protects\\nAHA 30% + BHA 2%\\nFor clear pores & even tone\\nWith 7 Natural Oils\\nFor All Hair Types!\\nUp To 30% Off\\nOn Trending Makeup!\\nNykaa - The Online Beauty Store\\nHow may we help you'}]"
      ]
     },
     "execution_count": 54,
     "metadata": {},
     "output_type": "execute_result"
    }
   ],
   "source": [
    "# Try this out, and then try for a few more websites\n",
    "\n",
    "messages_for(bhp)"
   ]
  },
  {
   "cell_type": "markdown",
   "id": "16f49d46-bf55-4c3e-928f-68fc0bf715b0",
   "metadata": {},
   "source": [
    "## Time to bring it together - the API for OpenAI!"
   ]
  },
  {
   "cell_type": "code",
   "execution_count": 59,
   "id": "905b9919-aba7-45b5-ae65-81b3d1d78e34",
   "metadata": {},
   "outputs": [],
   "source": [
    "# And now: call the OpenAI API. You will get very familiar with this!\n",
    "\n",
    "def summarize(url):\n",
    "    website = WebsiteSel(url,driver_path=\"/Users/rahulrajrana/Downloads/chromedriver-mac-arm64/chromedriver\")\n",
    "    response = openai.chat.completions.create(\n",
    "        model = \"gpt-4o-mini\",\n",
    "        messages = messages_for(website)\n",
    "    )\n",
    "    return response.choices[0].message.content"
   ]
  },
  {
   "cell_type": "code",
   "execution_count": 62,
   "id": "05e38d41-dfa4-4b20-9c96-c46ea75d9fb5",
   "metadata": {},
   "outputs": [
    {
     "data": {
      "text/plain": [
       "'## Product: Cosmetics and Beauty Products\\n\\n### Key Features:\\n- Wide range of products available from various brands.\\n- Discounts up to 50% on selected items, including bestsellers.\\n- Offers free gifts on purchases over ₹2500 or ₹3500.\\n- New launches available, ensuring access to the latest trends.\\n- Special deals including up to 30% off on trending makeup and flat rates like 10% off on lips.\\n- Product range includes items suitable for all hair types with nourishing ingredients.\\n\\n### Pros:\\n- Competitive pricing with frequent sales and discounts.\\n- Promotions that include attractive free gifts, enhancing the shopping experience.\\n- A diverse selection of beauty products catering to different needs and preferences.\\n- Easy access to both bestselling and new arrivals in the beauty industry.\\n\\n### Cons:\\n- Discounts may apply only for a limited time, creating urgency for buyers.\\n- Minimum purchase amounts required to obtain free gifts may deter some shoppers.\\n- Potential for overwhelming choices due to the vast selection available.\\n\\n### Best For:\\n- Beauty enthusiasts looking for a variety of cosmetics and personal care products.\\n- Shoppers seeking good deals and discounts on popular brands.\\n- Individuals wanting to try new products with the opportunity for free gifts on larger purchases.\\n\\n### Verdict:\\nNykaa offers an extensive selection of cosmetics and beauty products at competitive prices, backed by attractive discounts and promotional deals. It is an ideal shopping destination for anyone looking to enhance their beauty routine and discover new products. Whether you’re stocking up on essentials or treating yourself to the latest trends, Nykaa provides a convenient and enjoyable shopping experience.'"
      ]
     },
     "execution_count": 62,
     "metadata": {},
     "output_type": "execute_result"
    }
   ],
   "source": [
    "summarize(\"https://nykaa.com\")"
   ]
  },
  {
   "cell_type": "code",
   "execution_count": 60,
   "id": "3d926d59-450e-4609-92ba-2d6f244f1342",
   "metadata": {},
   "outputs": [],
   "source": [
    "# A function to display this nicely in the Jupyter output, using markdown\n",
    "\n",
    "def display_summary(url):\n",
    "    summary = summarize(url)\n",
    "    display(Markdown(summary))"
   ]
  },
  {
   "cell_type": "code",
   "execution_count": 63,
   "id": "3018853a-445f-41ff-9560-d925d1774b2f",
   "metadata": {},
   "outputs": [
    {
     "data": {
      "text/markdown": [
       "# Shopping Decision Guide: Nykaa Cosmetics\n",
       "\n",
       "### Product: Cosmetics & Beauty Products  \n",
       "\n",
       "### Key Features:\n",
       "- Variety of cosmetics including makeup and skincare from multiple brands\n",
       "- Discounts ranging from 5% to 50% on various products\n",
       "- Free gifts available with purchases over ₹2500 or ₹3500\n",
       "- New product launches available for shoppers\n",
       "- Specific sales on bestsellers and selected items such as M.A.C Foundation\n",
       "\n",
       "### Pros:\n",
       "- Competitive prices with significant discounts (up to 50%)\n",
       "- Wide selection of brands and products\n",
       "- Attractive offers like free gifts which enhance value\n",
       "- User-friendly shopping experience on an established online platform \n",
       "\n",
       "### Cons:\n",
       "- Limited time on discounts (varies by offer)\n",
       "- Some bestsellers may sell out quickly due to high demand\n",
       "- Free gifts may require a higher spending threshold which might not be feasible for all shoppers\n",
       "\n",
       "### Best For:\n",
       "- Makeup enthusiasts looking for a variety of products at discounted prices\n",
       "- Shoppers who want to try new beauty products with the benefit of free gifts\n",
       "- Individuals seeking specific brands like M.A.C or interested in trending cosmetics\n",
       "\n",
       "### Verdict:\n",
       "- Nykaa is an excellent choice for anyone looking to explore a wide range of cosmetics and beauty products at competitive prices, with the added benefits of promotions and free gifts. However, it’s wise to act fast on deals due to limited time offers and stock availability."
      ],
      "text/plain": [
       "<IPython.core.display.Markdown object>"
      ]
     },
     "metadata": {},
     "output_type": "display_data"
    }
   ],
   "source": [
    "display_summary(\"https://www.nykaa.com/\")"
   ]
  },
  {
   "cell_type": "markdown",
   "id": "b3bcf6f4-adce-45e9-97ad-d9a5d7a3a624",
   "metadata": {},
   "source": [
    "# Let's try more websites\n",
    "\n",
    "Note that this will only work on websites that can be scraped using this simplistic approach.\n",
    "\n",
    "Websites that are rendered with Javascript, like React apps, won't show up. \n",
    "\n",
    "But many websites will work just fine!"
   ]
  },
  {
   "cell_type": "code",
   "execution_count": 25,
   "id": "45d83403-a24c-44b5-84ac-961449b4008f",
   "metadata": {},
   "outputs": [
    {
     "data": {
      "text/markdown": [
       "# Summary of Latest News Today - The Indian Express\n",
       "\n",
       "The **Indian Express** website, titled \"Latest News Today,\" serves as a comprehensive news portal covering a wide array of topics including politics, business, sports, entertainment, and more, focused primarily on developments in India. \n",
       "\n",
       "### Key Headlines\n",
       "\n",
       "- **Political Drama**: A TMC leader has filed a defamation case against the father of a rape-murder victim, generating significant controversy.\n",
       "- **Military Movements**: Israel is mobilizing 60,000 army reservists in preparation for an offensive in Gaza City.\n",
       "- **Local Incidents**: A tragic incident in Ahmedabad occurred where a Class 8 student fatally stabbed a Class 10 student, prompting protests and violence at a local school.\n",
       "- **Protests and Policing**: Major protests against a power project turned violent in Madhya Pradesh, resulting in the police employing lathicharge and teargas to control the crowds, with around 300 individuals booked.\n",
       "- **Entertainment**: Shah Rukh Khan made headlines at a preview event for *The Ba***ds of Bollywood*, creating quite the buzz with his charisma and interactions with fans.\n",
       "- **Legislation Moves**: The Indian government is pushing forward with talks aimed at resuming trade agreements with the Russia-led EAEU bloc amidst complicated international tariff discussions.\n",
       "\n",
       "### Miscellaneous Updates\n",
       "\n",
       "- Mumbai continues to experience heavy rains leading to significant impacts on daily life and transportation.\n",
       "- An incident involving alleged police malpractice has raised concerns regarding conditions at the Mandoli Jail, prompting a judicial reprimand.\n",
       "- The RBI Governor has voiced concerns over monetary policy in light of external uncertainties affecting the Indian economy.\n",
       "\n",
       "In essence, *The Indian Express* remains a vital source for breaking news and in-depth analysis on current events shaping India today."
      ],
      "text/plain": [
       "<IPython.core.display.Markdown object>"
      ]
     },
     "metadata": {},
     "output_type": "display_data"
    }
   ],
   "source": [
    "display_summary(\"https://indianexpress.com\")"
   ]
  },
  {
   "cell_type": "markdown",
   "id": "610d0e00-b652-4b1d-a54b-00b24809c838",
   "metadata": {},
   "source": [
    "# Even converts Hindi News to it's English Equivalent Summary"
   ]
  },
  {
   "cell_type": "code",
   "execution_count": 27,
   "id": "75e9fd40-b354-4341-991e-863ef2e59db7",
   "metadata": {},
   "outputs": [
    {
     "data": {
      "text/markdown": [
       "# Summary of Dainik Bhaskar Website\n",
       "\n",
       "Dainik Bhaskar is a comprehensive Hindi news website providing the latest updates on various topics, including politics, sports, entertainment, and lifestyle. The site offers real-time news coverage, videos, and special features on trending issues.\n",
       "\n",
       "## Key Highlights:\n",
       "\n",
       "- **Political News**: The site discusses significant political events like recent bills introduced in the Lok Sabha, including a bill that could lead to the removal of PM or CM upon arrest. There were also incidents of opposition protests where paper balls were thrown in Parliament.\n",
       "\n",
       "- **Crime and Legal Matters**: Reports cover alarming incidents, such as an attack on Delhi's Chief Minister and issues surrounding migrant workers in Delhi-NCR. The aftermath of natural disasters, such as fatalities caused by cloudbursts in Kishtwar, is also highlighted.\n",
       "\n",
       "- **Sports Updates**: Cricket features prominently, including discussions about India's team composition for the Asia Cup, and controversies surrounding the rankings of players like Rohit Sharma and Virat Kohli.\n",
       "\n",
       "- **Business News**: Developments in the business world include the potential banning of online gaming sponsors and updates related to job recruitment in banks.\n",
       "\n",
       "- **Lifestyle Articles**: Content spans lifestyle tips and relationship advice, focusing on the well-being of readers.\n",
       "\n",
       "- **Trending Topics**: The site reports on various trending topics like the ongoing Russia-Ukraine war, the political landscape in Maharashtra, and unique stories captivating audience interest.\n",
       "\n",
       "Overall, Dainik Bhaskar serves as a key source of information for Hindi-speaking audiences seeking diverse news coverage from local to international events."
      ],
      "text/plain": [
       "<IPython.core.display.Markdown object>"
      ]
     },
     "metadata": {},
     "output_type": "display_data"
    }
   ],
   "source": [
    "display_summary(\"https://bhaskar.com\")"
   ]
  },
  {
   "cell_type": "code",
   "execution_count": null,
   "id": "f4484fcf-8b39-4c3f-9674-37970ed71988",
   "metadata": {},
   "outputs": [],
   "source": []
  }
 ],
 "metadata": {
  "kernelspec": {
   "display_name": "Python 3 (ipykernel)",
   "language": "python",
   "name": "python3"
  },
  "language_info": {
   "codemirror_mode": {
    "name": "ipython",
    "version": 3
   },
   "file_extension": ".py",
   "mimetype": "text/x-python",
   "name": "python",
   "nbconvert_exporter": "python",
   "pygments_lexer": "ipython3",
   "version": "3.11.13"
  }
 },
 "nbformat": 4,
 "nbformat_minor": 5
}
