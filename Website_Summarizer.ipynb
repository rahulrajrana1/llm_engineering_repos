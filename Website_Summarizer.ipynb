{
 "cells": [
  {
   "cell_type": "code",
   "execution_count": 2,
   "id": "4e2a9393-7767-488e-a8bf-27c12dca35bd",
   "metadata": {},
   "outputs": [],
   "source": [
    "# imports\n",
    "\n",
    "import os\n",
    "import requests\n",
    "from dotenv import load_dotenv\n",
    "from bs4 import BeautifulSoup\n",
    "from IPython.display import Markdown, display\n",
    "from openai import OpenAI\n",
    "\n",
    "# If you get an error running this cell, then please head over to the troubleshooting notebook!"
   ]
  },
  {
   "cell_type": "markdown",
   "id": "6900b2a8-6384-4316-8aaa-5e519fca4254",
   "metadata": {},
   "source": [
    "# Connecting to OpenAI\n",
    "\n",
    "The next cell is where we load in the environment variables in your `.env` file and connect to OpenAI.  \n"
   ]
  },
  {
   "cell_type": "code",
   "execution_count": 4,
   "id": "7b87cadb-d513-4303-baee-a37b6f938e4d",
   "metadata": {},
   "outputs": [
    {
     "name": "stdout",
     "output_type": "stream",
     "text": [
      "API key found and looks good so far!\n"
     ]
    }
   ],
   "source": [
    "# Load environment variables in a file called .env\n",
    "\n",
    "load_dotenv(override=True)\n",
    "api_key = os.getenv('OPENAI_API_KEY')\n",
    "\n",
    "# Check the key\n",
    "\n",
    "if not api_key:\n",
    "    print(\"No API key was found - please head over to the troubleshooting notebook in this folder to identify & fix!\")\n",
    "elif not api_key.startswith(\"sk-proj-\"):\n",
    "    print(\"An API key was found, but it doesn't start sk-proj-; please check you're using the right key - see troubleshooting notebook\")\n",
    "elif api_key.strip() != api_key:\n",
    "    print(\"An API key was found, but it looks like it might have space or tab characters at the start or end - please remove them - see troubleshooting notebook\")\n",
    "else:\n",
    "    print(\"API key found and looks good so far!\")\n"
   ]
  },
  {
   "cell_type": "code",
   "execution_count": 5,
   "id": "019974d9-f3ad-4a8a-b5f9-0a3719aea2d3",
   "metadata": {},
   "outputs": [],
   "source": [
    "openai = OpenAI()\n",
    "\n",
    "# If this doesn't work, try Kernel menu >> Restart Kernel and Clear Outputs Of All Cells, then run the cells from the top of this notebook down.\n",
    "# If it STILL doesn't work (horrors!) then please see the Troubleshooting notebook in this folder for full instructions"
   ]
  },
  {
   "cell_type": "markdown",
   "id": "442fc84b-0815-4f40-99ab-d9a5da6bda91",
   "metadata": {},
   "source": [
    "# Let's make a quick call to a model to get started"
   ]
  },
  {
   "cell_type": "code",
   "execution_count": 6,
   "id": "a58394bf-1e45-46af-9bfd-01e24da6f49a",
   "metadata": {},
   "outputs": [
    {
     "name": "stdout",
     "output_type": "stream",
     "text": [
      "Hello! Welcome! I'm glad you're here. How can I assist you today?\n"
     ]
    }
   ],
   "source": [
    "# To give you a preview -- calling OpenAI with these messages is this easy. Any problems, head over to the Troubleshooting notebook.\n",
    "\n",
    "message = \"Hello, GPT! This is my first ever message to you! Hi!\"\n",
    "response = openai.chat.completions.create(model=\"gpt-4o-mini\", messages=[{\"role\":\"user\", \"content\":message}])\n",
    "print(response.choices[0].message.content)"
   ]
  },
  {
   "cell_type": "code",
   "execution_count": 7,
   "id": "8f066048-f4c0-4c67-8b2d-14bf4b8b8158",
   "metadata": {},
   "outputs": [
    {
     "name": "stdout",
     "output_type": "stream",
     "text": [
      "ChatCompletion(id='chatcmpl-C6es3A7o3gnFjmB4CgGxHXirKhSdc', choices=[Choice(finish_reason='stop', index=0, logprobs=None, message=ChatCompletionMessage(content=\"Hello! Welcome! I'm glad you're here. How can I assist you today?\", refusal=None, role='assistant', annotations=[], audio=None, function_call=None, tool_calls=None))], created=1755703111, model='gpt-4o-mini-2024-07-18', object='chat.completion', service_tier='default', system_fingerprint='fp_560af6e559', usage=CompletionUsage(completion_tokens=16, prompt_tokens=22, total_tokens=38, completion_tokens_details=CompletionTokensDetails(accepted_prediction_tokens=0, audio_tokens=0, reasoning_tokens=0, rejected_prediction_tokens=0), prompt_tokens_details=PromptTokensDetails(audio_tokens=0, cached_tokens=0)))\n"
     ]
    }
   ],
   "source": [
    "print(response)"
   ]
  },
  {
   "cell_type": "markdown",
   "id": "2aa190e5-cb31-456a-96cc-db109919cd78",
   "metadata": {},
   "source": [
    "## Onwards with our first project"
   ]
  },
  {
   "cell_type": "code",
   "execution_count": 8,
   "id": "c5e793b2-6775-426a-a139-4848291d0463",
   "metadata": {},
   "outputs": [],
   "source": [
    "# A class to represent a Webpage\n",
    "# If you're not familiar with Classes, check out the \"Intermediate Python\" notebook\n",
    "\n",
    "# Some websites need you to use proper headers when fetching them:\n",
    "headers = {\n",
    " \"User-Agent\": \"Mozilla/5.0 (Windows NT 10.0; Win64; x64) AppleWebKit/537.36 (KHTML, like Gecko) Chrome/117.0.0.0 Safari/537.36\"\n",
    "}\n",
    "\n",
    "class Website:\n",
    "\n",
    "    def __init__(self, url):\n",
    "        \"\"\"\n",
    "        Create this Website object from the given url using the BeautifulSoup library\n",
    "        \"\"\"\n",
    "        self.url = url\n",
    "        response = requests.get(url, headers=headers)\n",
    "        soup = BeautifulSoup(response.content, 'html.parser')\n",
    "        self.title = soup.title.string if soup.title else \"No title found\"\n",
    "        for irrelevant in soup.body([\"script\", \"style\", \"img\", \"input\"]):\n",
    "            irrelevant.decompose()\n",
    "        self.text = soup.body.get_text(separator=\"\\n\", strip=True)"
   ]
  },
  {
   "cell_type": "code",
   "execution_count": 11,
   "id": "2ef960cf-6dc2-4cda-afb3-b38be12f4c97",
   "metadata": {},
   "outputs": [
    {
     "name": "stdout",
     "output_type": "stream",
     "text": [
      "Team-BHP - India's Most Trusted Car Reviews & News\n",
      "Skip to main content\n",
      "About Us\n",
      "|\n",
      "Advertise\n",
      "|\n",
      "Contact Us\n",
      "Forum\n",
      "Hot Threads\n",
      "News\n",
      "Reviews\n",
      "Photos\n",
      "Buy Used Car\n",
      "Spare Parts\n",
      "Windshield Experts\n",
      "Classifieds\n",
      "Store\n",
      "2025 Suzuki Access 125 Review\n",
      "News\n",
      "Latest News\n",
      "Member Content\n",
      "More images: Mahindra XUV700 facelift spied inside and out\n",
      "Ather EL low-cost electric scooter concept teased\n",
      "Royal Enfield Motoverse 2025 registrations open\n",
      "Tata Motors re-enters the South African market after 6 years\n",
      "Xiaomi plans to launch EVs in Europe by 2027\n",
      "Citroen announces Basalt, Aircross & C3 Drive range for fleet operators\n",
      "2025 Hero Glamour X 125 launched at Rs 89,999\n",
      "Korea turns driving into a game; sparks safer driving habits\n",
      "Ola electric car, rickshaw & LCV based on Gen 4 platform teased\n",
      "View All News\n",
      "How to clean the dust settlement in engine bay due to dried up 3M coat?\n",
      "2022 Toyota Hyryder Hybrid efficiency drop: Is E20 fuel to blame?\n",
      "1,23,456km with my 2016 Volkswagen Polo; Still feels new after 9 years!\n",
      "Thrissur to Bangalore and back via Coimbatore & Krishnagiri: Update\n",
      "Are EVs becoming the no.1 choice for city driving in India?\n",
      "2024 Maruti Suzuki Brezza CNG: 1 year/22,000 km ownership experience\n",
      "Buying my first car in the US: Which one should I choose?\n",
      "40k annual service of my Maruti Suzuki Baleno: Repairs and cost\n",
      "Independence Day 2025: BHPians & Triumph 400 riders ride into the hills\n",
      "View All News\n",
      "Reviews\n",
      "Select a Make\n",
      "All Motorbikes\n",
      "Audi\n",
      "BMW\n",
      "BYD\n",
      "Chevrolet\n",
      "Citroen\n",
      "Datsun\n",
      "Fiat\n",
      "Force\n",
      "Ford\n",
      "Honda\n",
      "Hyundai\n",
      "Isuzu\n",
      "Jaguar\n",
      "Jeep\n",
      "Kia\n",
      "Land Rover\n",
      "Lexus\n",
      "Mahindra\n",
      "Maruti Suzuki\n",
      "Mercedes-Benz\n",
      "MG\n",
      "Mini\n",
      "Mitsubishi\n",
      "Nissan\n",
      "Other\n",
      "Porsche\n",
      "Renault\n",
      "Skoda\n",
      "Tata\n",
      "Tesla\n",
      "Toyota\n",
      "Volkswagen\n",
      "Volvo\n",
      "Suzuki Access 125\n",
      "Volvo EX30\n",
      "Mercedes GLA 45 AMG\n",
      "Triumph Thruxton 400\n",
      "Bajaj Pulsar NS400Z\n",
      "Honda CB1000R\n",
      "View All Reviews\n",
      "Got BHP?\n",
      "Merchandise\n",
      "Daily Newsletter\n",
      "Instagram\n",
      "Advertise with us\n",
      "Hot Threads\n",
      "2025 Suzuki Access 125 Review\n",
      "Living with a Honda CBR650R\n",
      "Car Sales Analysis | By Segment\n",
      "Close Look | Mahindra SUV Concepts\n",
      "Kodiaq DCC suspension problem!\n",
      "My Triumph Street Triple RS Review\n",
      "Mistake with bike seat modification\n",
      "BHPians using Annual FASTag pass\n",
      "Line loss when charging an EV\n",
      "The ethanol-blended petrol mess\n",
      "GST on small cars to go down?\n",
      "Ola showcases a radical motorcycle\n",
      "On Camry Hybrid Sprint Edition\n",
      "Bangalore Metro Rail Thread\n",
      "Trump Vs India Vs Others\n",
      "VW lawsuit for touch controls\n",
      "Volvo EX30 Official Review\n",
      "Nikon Z8 camera & f4.5 lens Review\n",
      "Why would you not buy a used car?\n",
      "Kawasaki KLX 230 short test ride\n",
      "More Hot Threads\n",
      "Travelogues\n",
      "Experiences, Route info & Photos posted by Team-BHP members\n",
      "A fun Sunday with my BMW…\n",
      "X3M40i on North Cascades…\n",
      "Camping trip in my Grand…\n",
      "To Elk Falls in my Toyota RAV4\n",
      "A night at Edapalayam Watch…\n",
      "Help Articles\n",
      "Pre-delivery Inspection (PDI) & Check List\n",
      "Find your car's date of manufacture (VIN)\n",
      "The logic & beauty of buying 1 - 3 year old used cars…\n",
      "How a more expensive car can work out cheaper\n",
      "How to sell a *USED* car in India\n",
      "View All\n",
      "Tech Stuff\n",
      "The Downside of High-End Audio Installs\n",
      "All about Engine Decarbonisation\n",
      "Fixing Car / Steering / Pedal Vibrations\n",
      "How to Maintain your Car in Top Shape\n",
      "The \"Idling Rule\" with Turbo-Charged Cars\n",
      "View All\n",
      "Sleepy Driving: The sile…\n",
      "Open vs Full Face Helmets\n",
      "Safe Driving on Highways…\n",
      "Seat Belts Saved My Life…\n",
      "Tyre Bursts / Blowouts…\n",
      "More\n",
      "Motorbikes\n",
      "2025 Suzuki Access 125 Review\n",
      "Living with a Honda CBR650R\n",
      "Mistake with bike seat modification\n",
      "Ola showcases a radical motorcycle\n",
      "Kawasaki KLX 230 short test…\n",
      "More Bike Threads\n",
      "Buy & Sell Used Cars\n",
      "Hatchbacks\n",
      "Sedans\n",
      "SUVs, MUVs & 4x4s\n",
      "Luxury & Niche\n",
      "Motorbikes\n",
      "Team-BHP.com\n",
      "Advice\n",
      "Classifieds\n",
      "Forum\n",
      "Hot Threads\n",
      "News\n",
      "Photos\n",
      "Reviews\n",
      "Road Safety\n",
      "Store\n",
      "Tech Stuff\n",
      "About Us\n",
      "Overview\n",
      "The Team\n",
      "Key Features\n",
      "Philosophy\n",
      "History\n",
      "Contact Us\n",
      "Speak\n",
      "Share\n",
      "Advertise\n",
      "Copyright 2025 - www.team-bhp.com\n",
      "Site Map\n",
      "|\n",
      "Privacy Policy\n",
      "|\n",
      "Terms & Conditions\n",
      "×\n",
      "Team-BHP's Daily Newsletter\n",
      "View recent samples ►\n",
      "Check Traffic Challans\n",
      "Complete your payment online\n",
      "Spare Parts\n",
      "Hyundai Santro\n",
      "See All Ads\n",
      "Fiat Palio\n",
      "See All Ads\n",
      "USERS ONLINE\n",
      "035210\n",
      "Members:\n",
      "92,161\n",
      "Threads:\n",
      "191,787\n",
      "Posts:\n",
      "5,357,667\n",
      "USERS ONLINE\n",
      "0\n",
      "0\n",
      "0\n",
      "0\n",
      "0\n",
      "Members:\n",
      "Threads:\n",
      "Posts:\n",
      "Directory\n",
      "Member-recommended garages, shops & service providers\n",
      "Mumbai\n",
      "Bangalore\n",
      "Delhi NCR\n",
      "Chennai\n",
      "Other Cities\n",
      "Newsletter\n",
      "Get your daily update on\n",
      "the Indian Car Scene.\n",
      "View recent sample\n",
      "Email Address\n",
      "Click here to unsubscribe\n",
      "Become A Fan\n",
      "Stay Updated\n",
      "Keep yourself tuned in to the Indian automotive scene via Twitter, Youtube or RSS feeds.\n"
     ]
    }
   ],
   "source": [
    "# Let's try one out. Change the website and add print statements to follow along.\n",
    "\n",
    "bhp = Website(\"https://team-bhp.com\")\n",
    "print(bhp.title)\n",
    "print(bhp.text)"
   ]
  },
  {
   "cell_type": "code",
   "execution_count": 13,
   "id": "abdb8417-c5dc-44bc-9bee-2e059d162699",
   "metadata": {},
   "outputs": [],
   "source": [
    "# Define our system prompt\"\n",
    "\n",
    "system_prompt = \"You are a snarky assistant that analyzes the contents of a website \\\n",
    "and provides a short summary, ignoring text that might be navigation related. \\\n",
    "Respond in markdown.\""
   ]
  },
  {
   "cell_type": "code",
   "execution_count": 14,
   "id": "f0275b1b-7cfe-4f9d-abfa-7650d378da0c",
   "metadata": {},
   "outputs": [],
   "source": [
    "# A function that writes a User Prompt that asks for summaries of websites:\n",
    "\n",
    "def user_prompt_for(website):\n",
    "    user_prompt = f\"You are looking at a website titled {website.title}\"\n",
    "    user_prompt += \"\\nThe contents of this website is as follows; \\\n",
    "please provide a short summary of this website in markdown. \\\n",
    "If it includes news or announcements, then summarize these too.\\n\\n\"\n",
    "    user_prompt += website.text\n",
    "    return user_prompt"
   ]
  },
  {
   "cell_type": "code",
   "execution_count": 15,
   "id": "26448ec4-5c00-4204-baec-7df91d11ff2e",
   "metadata": {},
   "outputs": [
    {
     "name": "stdout",
     "output_type": "stream",
     "text": [
      "You are looking at a website titled Team-BHP - India's Most Trusted Car Reviews & News\n",
      "The contents of this website is as follows; please provide a short summary of this website in markdown. If it includes news or announcements, then summarize these too.\n",
      "\n",
      "Skip to main content\n",
      "About Us\n",
      "|\n",
      "Advertise\n",
      "|\n",
      "Contact Us\n",
      "Forum\n",
      "Hot Threads\n",
      "News\n",
      "Reviews\n",
      "Photos\n",
      "Buy Used Car\n",
      "Spare Parts\n",
      "Windshield Experts\n",
      "Classifieds\n",
      "Store\n",
      "2025 Suzuki Access 125 Review\n",
      "News\n",
      "Latest News\n",
      "Member Content\n",
      "More images: Mahindra XUV700 facelift spied inside and out\n",
      "Ather EL low-cost electric scooter concept teased\n",
      "Royal Enfield Motoverse 2025 registrations open\n",
      "Tata Motors re-enters the South African market after 6 years\n",
      "Xiaomi plans to launch EVs in Europe by 2027\n",
      "Citroen announces Basalt, Aircross & C3 Drive range for fleet operators\n",
      "2025 Hero Glamour X 125 launched at Rs 89,999\n",
      "Korea turns driving into a game; sparks safer driving habits\n",
      "Ola electric car, rickshaw & LCV based on Gen 4 platform teased\n",
      "View All News\n",
      "How to clean the dust settlement in engine bay due to dried up 3M coat?\n",
      "2022 Toyota Hyryder Hybrid efficiency drop: Is E20 fuel to blame?\n",
      "1,23,456km with my 2016 Volkswagen Polo; Still feels new after 9 years!\n",
      "Thrissur to Bangalore and back via Coimbatore & Krishnagiri: Update\n",
      "Are EVs becoming the no.1 choice for city driving in India?\n",
      "2024 Maruti Suzuki Brezza CNG: 1 year/22,000 km ownership experience\n",
      "Buying my first car in the US: Which one should I choose?\n",
      "40k annual service of my Maruti Suzuki Baleno: Repairs and cost\n",
      "Independence Day 2025: BHPians & Triumph 400 riders ride into the hills\n",
      "View All News\n",
      "Reviews\n",
      "Select a Make\n",
      "All Motorbikes\n",
      "Audi\n",
      "BMW\n",
      "BYD\n",
      "Chevrolet\n",
      "Citroen\n",
      "Datsun\n",
      "Fiat\n",
      "Force\n",
      "Ford\n",
      "Honda\n",
      "Hyundai\n",
      "Isuzu\n",
      "Jaguar\n",
      "Jeep\n",
      "Kia\n",
      "Land Rover\n",
      "Lexus\n",
      "Mahindra\n",
      "Maruti Suzuki\n",
      "Mercedes-Benz\n",
      "MG\n",
      "Mini\n",
      "Mitsubishi\n",
      "Nissan\n",
      "Other\n",
      "Porsche\n",
      "Renault\n",
      "Skoda\n",
      "Tata\n",
      "Tesla\n",
      "Toyota\n",
      "Volkswagen\n",
      "Volvo\n",
      "Suzuki Access 125\n",
      "Volvo EX30\n",
      "Mercedes GLA 45 AMG\n",
      "Triumph Thruxton 400\n",
      "Bajaj Pulsar NS400Z\n",
      "Honda CB1000R\n",
      "View All Reviews\n",
      "Got BHP?\n",
      "Merchandise\n",
      "Daily Newsletter\n",
      "Instagram\n",
      "Advertise with us\n",
      "Hot Threads\n",
      "2025 Suzuki Access 125 Review\n",
      "Living with a Honda CBR650R\n",
      "Car Sales Analysis | By Segment\n",
      "Close Look | Mahindra SUV Concepts\n",
      "Kodiaq DCC suspension problem!\n",
      "My Triumph Street Triple RS Review\n",
      "Mistake with bike seat modification\n",
      "BHPians using Annual FASTag pass\n",
      "Line loss when charging an EV\n",
      "The ethanol-blended petrol mess\n",
      "GST on small cars to go down?\n",
      "Ola showcases a radical motorcycle\n",
      "On Camry Hybrid Sprint Edition\n",
      "Bangalore Metro Rail Thread\n",
      "Trump Vs India Vs Others\n",
      "VW lawsuit for touch controls\n",
      "Volvo EX30 Official Review\n",
      "Nikon Z8 camera & f4.5 lens Review\n",
      "Why would you not buy a used car?\n",
      "Kawasaki KLX 230 short test ride\n",
      "More Hot Threads\n",
      "Travelogues\n",
      "Experiences, Route info & Photos posted by Team-BHP members\n",
      "A fun Sunday with my BMW…\n",
      "X3M40i on North Cascades…\n",
      "Camping trip in my Grand…\n",
      "To Elk Falls in my Toyota RAV4\n",
      "A night at Edapalayam Watch…\n",
      "Help Articles\n",
      "Pre-delivery Inspection (PDI) & Check List\n",
      "Find your car's date of manufacture (VIN)\n",
      "The logic & beauty of buying 1 - 3 year old used cars…\n",
      "How a more expensive car can work out cheaper\n",
      "How to sell a *USED* car in India\n",
      "View All\n",
      "Tech Stuff\n",
      "The Downside of High-End Audio Installs\n",
      "All about Engine Decarbonisation\n",
      "Fixing Car / Steering / Pedal Vibrations\n",
      "How to Maintain your Car in Top Shape\n",
      "The \"Idling Rule\" with Turbo-Charged Cars\n",
      "View All\n",
      "Sleepy Driving: The sile…\n",
      "Open vs Full Face Helmets\n",
      "Safe Driving on Highways…\n",
      "Seat Belts Saved My Life…\n",
      "Tyre Bursts / Blowouts…\n",
      "More\n",
      "Motorbikes\n",
      "2025 Suzuki Access 125 Review\n",
      "Living with a Honda CBR650R\n",
      "Mistake with bike seat modification\n",
      "Ola showcases a radical motorcycle\n",
      "Kawasaki KLX 230 short test…\n",
      "More Bike Threads\n",
      "Buy & Sell Used Cars\n",
      "Hatchbacks\n",
      "Sedans\n",
      "SUVs, MUVs & 4x4s\n",
      "Luxury & Niche\n",
      "Motorbikes\n",
      "Team-BHP.com\n",
      "Advice\n",
      "Classifieds\n",
      "Forum\n",
      "Hot Threads\n",
      "News\n",
      "Photos\n",
      "Reviews\n",
      "Road Safety\n",
      "Store\n",
      "Tech Stuff\n",
      "About Us\n",
      "Overview\n",
      "The Team\n",
      "Key Features\n",
      "Philosophy\n",
      "History\n",
      "Contact Us\n",
      "Speak\n",
      "Share\n",
      "Advertise\n",
      "Copyright 2025 - www.team-bhp.com\n",
      "Site Map\n",
      "|\n",
      "Privacy Policy\n",
      "|\n",
      "Terms & Conditions\n",
      "×\n",
      "Team-BHP's Daily Newsletter\n",
      "View recent samples ►\n",
      "Check Traffic Challans\n",
      "Complete your payment online\n",
      "Spare Parts\n",
      "Hyundai Santro\n",
      "See All Ads\n",
      "Fiat Palio\n",
      "See All Ads\n",
      "USERS ONLINE\n",
      "035210\n",
      "Members:\n",
      "92,161\n",
      "Threads:\n",
      "191,787\n",
      "Posts:\n",
      "5,357,667\n",
      "USERS ONLINE\n",
      "0\n",
      "0\n",
      "0\n",
      "0\n",
      "0\n",
      "Members:\n",
      "Threads:\n",
      "Posts:\n",
      "Directory\n",
      "Member-recommended garages, shops & service providers\n",
      "Mumbai\n",
      "Bangalore\n",
      "Delhi NCR\n",
      "Chennai\n",
      "Other Cities\n",
      "Newsletter\n",
      "Get your daily update on\n",
      "the Indian Car Scene.\n",
      "View recent sample\n",
      "Email Address\n",
      "Click here to unsubscribe\n",
      "Become A Fan\n",
      "Stay Updated\n",
      "Keep yourself tuned in to the Indian automotive scene via Twitter, Youtube or RSS feeds.\n"
     ]
    }
   ],
   "source": [
    "print(user_prompt_for(bhp))"
   ]
  },
  {
   "cell_type": "code",
   "execution_count": 16,
   "id": "f25dcd35-0cd0-4235-9f64-ac37ed9eaaa5",
   "metadata": {},
   "outputs": [],
   "source": [
    "messages = [\n",
    "    {\"role\": \"system\", \"content\": \"You are an angry assistant\"},\n",
    "    {\"role\": \"user\", \"content\": \"What is 2 * 2?\"}\n",
    "]"
   ]
  },
  {
   "cell_type": "code",
   "execution_count": 17,
   "id": "21ed95c5-7001-47de-a36d-1d6673b403ce",
   "metadata": {},
   "outputs": [
    {
     "name": "stdout",
     "output_type": "stream",
     "text": [
      "Seriously? It's 4. Everyone knows that.\n"
     ]
    }
   ],
   "source": [
    "# To give you a preview -- calling OpenAI with system and user messages:\n",
    "\n",
    "response = openai.chat.completions.create(model=\"gpt-4o-mini\", messages=messages)\n",
    "print(response.choices[0].message.content)"
   ]
  },
  {
   "cell_type": "markdown",
   "id": "d06e8d78-ce4c-4b05-aa8e-17050c82bb47",
   "metadata": {},
   "source": [
    "## And now let's build useful messages for GPT-4o-mini, using a function"
   ]
  },
  {
   "cell_type": "code",
   "execution_count": 18,
   "id": "0134dfa4-8299-48b5-b444-f2a8c3403c88",
   "metadata": {},
   "outputs": [],
   "source": [
    "# See how this function creates exactly the format above\n",
    "\n",
    "def messages_for(website):\n",
    "    return [\n",
    "        {\"role\": \"system\", \"content\": system_prompt},\n",
    "        {\"role\": \"user\", \"content\": user_prompt_for(website)}\n",
    "    ]"
   ]
  },
  {
   "cell_type": "code",
   "execution_count": 19,
   "id": "36478464-39ee-485c-9f3f-6a4e458dbc9c",
   "metadata": {},
   "outputs": [
    {
     "data": {
      "text/plain": [
       "[{'role': 'system',\n",
       "  'content': 'You are a snarky assistant that analyzes the contents of a website and provides a short summary, ignoring text that might be navigation related. Respond in markdown.'},\n",
       " {'role': 'user',\n",
       "  'content': 'You are looking at a website titled Team-BHP - India\\'s Most Trusted Car Reviews & News\\nThe contents of this website is as follows; please provide a short summary of this website in markdown. If it includes news or announcements, then summarize these too.\\n\\nSkip to main content\\nAbout Us\\n|\\nAdvertise\\n|\\nContact Us\\nForum\\nHot Threads\\nNews\\nReviews\\nPhotos\\nBuy Used Car\\nSpare Parts\\nWindshield Experts\\nClassifieds\\nStore\\n2025 Suzuki Access 125 Review\\nNews\\nLatest News\\nMember Content\\nMore images: Mahindra XUV700 facelift spied inside and out\\nAther EL low-cost electric scooter concept teased\\nRoyal Enfield Motoverse 2025 registrations open\\nTata Motors re-enters the South African market after 6 years\\nXiaomi plans to launch EVs in Europe by 2027\\nCitroen announces Basalt, Aircross & C3 Drive range for fleet operators\\n2025 Hero Glamour X 125 launched at Rs 89,999\\nKorea turns driving into a game; sparks safer driving habits\\nOla electric car, rickshaw & LCV based on Gen 4 platform teased\\nView All News\\nHow to clean the dust settlement in engine bay due to dried up 3M coat?\\n2022 Toyota Hyryder Hybrid efficiency drop: Is E20 fuel to blame?\\n1,23,456km with my 2016 Volkswagen Polo; Still feels new after 9 years!\\nThrissur to Bangalore and back via Coimbatore & Krishnagiri: Update\\nAre EVs becoming the no.1 choice for city driving in India?\\n2024 Maruti Suzuki Brezza CNG: 1 year/22,000 km ownership experience\\nBuying my first car in the US: Which one should I choose?\\n40k annual service of my Maruti Suzuki Baleno: Repairs and cost\\nIndependence Day 2025: BHPians & Triumph 400 riders ride into the hills\\nView All News\\nReviews\\nSelect a Make\\nAll Motorbikes\\nAudi\\nBMW\\nBYD\\nChevrolet\\nCitroen\\nDatsun\\nFiat\\nForce\\nFord\\nHonda\\nHyundai\\nIsuzu\\nJaguar\\nJeep\\nKia\\nLand Rover\\nLexus\\nMahindra\\nMaruti Suzuki\\nMercedes-Benz\\nMG\\nMini\\nMitsubishi\\nNissan\\nOther\\nPorsche\\nRenault\\nSkoda\\nTata\\nTesla\\nToyota\\nVolkswagen\\nVolvo\\nSuzuki Access 125\\nVolvo EX30\\nMercedes GLA 45 AMG\\nTriumph Thruxton 400\\nBajaj Pulsar NS400Z\\nHonda CB1000R\\nView All Reviews\\nGot BHP?\\nMerchandise\\nDaily Newsletter\\nInstagram\\nAdvertise with us\\nHot Threads\\n2025 Suzuki Access 125 Review\\nLiving with a Honda CBR650R\\nCar Sales Analysis | By Segment\\nClose Look | Mahindra SUV Concepts\\nKodiaq DCC suspension problem!\\nMy Triumph Street Triple RS Review\\nMistake with bike seat modification\\nBHPians using Annual FASTag pass\\nLine loss when charging an EV\\nThe ethanol-blended petrol mess\\nGST on small cars to go down?\\nOla showcases a radical motorcycle\\nOn Camry Hybrid Sprint Edition\\nBangalore Metro Rail Thread\\nTrump Vs India Vs Others\\nVW lawsuit for touch controls\\nVolvo EX30 Official Review\\nNikon Z8 camera & f4.5 lens Review\\nWhy would you not buy a used car?\\nKawasaki KLX 230 short test ride\\nMore Hot Threads\\nTravelogues\\nExperiences, Route info & Photos posted by Team-BHP members\\nA fun Sunday with my BMW…\\nX3M40i on North Cascades…\\nCamping trip in my Grand…\\nTo Elk Falls in my Toyota RAV4\\nA night at Edapalayam Watch…\\nHelp Articles\\nPre-delivery Inspection (PDI) & Check List\\nFind your car\\'s date of manufacture (VIN)\\nThe logic & beauty of buying 1 - 3 year old used cars…\\nHow a more expensive car can work out cheaper\\nHow to sell a *USED* car in India\\nView All\\nTech Stuff\\nThe Downside of High-End Audio Installs\\nAll about Engine Decarbonisation\\nFixing Car / Steering / Pedal Vibrations\\nHow to Maintain your Car in Top Shape\\nThe \"Idling Rule\" with Turbo-Charged Cars\\nView All\\nSleepy Driving: The sile…\\nOpen vs Full Face Helmets\\nSafe Driving on Highways…\\nSeat Belts Saved My Life…\\nTyre Bursts / Blowouts…\\nMore\\nMotorbikes\\n2025 Suzuki Access 125 Review\\nLiving with a Honda CBR650R\\nMistake with bike seat modification\\nOla showcases a radical motorcycle\\nKawasaki KLX 230 short test…\\nMore Bike Threads\\nBuy & Sell Used Cars\\nHatchbacks\\nSedans\\nSUVs, MUVs & 4x4s\\nLuxury & Niche\\nMotorbikes\\nTeam-BHP.com\\nAdvice\\nClassifieds\\nForum\\nHot Threads\\nNews\\nPhotos\\nReviews\\nRoad Safety\\nStore\\nTech Stuff\\nAbout Us\\nOverview\\nThe Team\\nKey Features\\nPhilosophy\\nHistory\\nContact Us\\nSpeak\\nShare\\nAdvertise\\nCopyright 2025 - www.team-bhp.com\\nSite Map\\n|\\nPrivacy Policy\\n|\\nTerms & Conditions\\n×\\nTeam-BHP\\'s Daily Newsletter\\nView recent samples ►\\nCheck Traffic Challans\\nComplete your payment online\\nSpare Parts\\nHyundai Santro\\nSee All Ads\\nFiat Palio\\nSee All Ads\\nUSERS ONLINE\\n035210\\nMembers:\\n92,161\\nThreads:\\n191,787\\nPosts:\\n5,357,667\\nUSERS ONLINE\\n0\\n0\\n0\\n0\\n0\\nMembers:\\nThreads:\\nPosts:\\nDirectory\\nMember-recommended garages, shops & service providers\\nMumbai\\nBangalore\\nDelhi NCR\\nChennai\\nOther Cities\\nNewsletter\\nGet your daily update on\\nthe Indian Car Scene.\\nView recent sample\\nEmail Address\\nClick here to unsubscribe\\nBecome A Fan\\nStay Updated\\nKeep yourself tuned in to the Indian automotive scene via Twitter, Youtube or RSS feeds.'}]"
      ]
     },
     "execution_count": 19,
     "metadata": {},
     "output_type": "execute_result"
    }
   ],
   "source": [
    "# Try this out, and then try for a few more websites\n",
    "\n",
    "messages_for(bhp)"
   ]
  },
  {
   "cell_type": "markdown",
   "id": "16f49d46-bf55-4c3e-928f-68fc0bf715b0",
   "metadata": {},
   "source": [
    "## Time to bring it together - the API for OpenAI!"
   ]
  },
  {
   "cell_type": "code",
   "execution_count": 20,
   "id": "905b9919-aba7-45b5-ae65-81b3d1d78e34",
   "metadata": {},
   "outputs": [],
   "source": [
    "# And now: call the OpenAI API. You will get very familiar with this!\n",
    "\n",
    "def summarize(url):\n",
    "    website = Website(url)\n",
    "    response = openai.chat.completions.create(\n",
    "        model = \"gpt-4o-mini\",\n",
    "        messages = messages_for(website)\n",
    "    )\n",
    "    return response.choices[0].message.content"
   ]
  },
  {
   "cell_type": "code",
   "execution_count": 21,
   "id": "05e38d41-dfa4-4b20-9c96-c46ea75d9fb5",
   "metadata": {},
   "outputs": [
    {
     "data": {
      "text/plain": [
       "'# Team-BHP Summary\\n\\n**Website Overview**:  \\nTeam-BHP is a comprehensive online platform dedicated to car reviews, news, and discussions, focused on the Indian automotive market. It emphasizes community engagement through forums where members share experiences and advice related to cars and motorcycles. \\n\\n---\\n\\n## Key Features:\\n- **Reviews**: In-depth reviews of various car and motorcycle models, including recent reviews of vehicles like the 2025 Suzuki Access 125 and others.\\n- **News**: Latest updates in the automotive industry, including sneak peeks at upcoming models and announcements from manufacturers.\\n\\n### Recent News Highlights:\\n- **Mahindra XUV700**: Facelifted model spotted.\\n- **Ather**: New low-cost electric scooter concept teased.\\n- **Royal Enfield**: Registrations for Motoverse 2025 now open.\\n- **Tata Motors**: Re-entering the South African market after a 6-year hiatus.\\n- **Citroen**: Launches new range targeting fleet operators including the Basalt and Aircross.\\n- **New Launches**: 2025 Hero Glamour X 125 priced at Rs 89,999.\\n- **Xiaomi**: Plans to introduce EVs in Europe by 2027.\\n\\n---\\n\\n**Community Engagement**: Members actively participate in discussions ranging from ownership experiences to maintenance advice, making it a robust resource for car enthusiasts.\\n\\n**Additional Resources**: Team-BHP provides articles on vehicle maintenance, safe driving practices, and a classifieds section for buying and selling used vehicles.'"
      ]
     },
     "execution_count": 21,
     "metadata": {},
     "output_type": "execute_result"
    }
   ],
   "source": [
    "summarize(\"https://team-bhp.com\")"
   ]
  },
  {
   "cell_type": "code",
   "execution_count": 22,
   "id": "3d926d59-450e-4609-92ba-2d6f244f1342",
   "metadata": {},
   "outputs": [],
   "source": [
    "# A function to display this nicely in the Jupyter output, using markdown\n",
    "\n",
    "def display_summary(url):\n",
    "    summary = summarize(url)\n",
    "    display(Markdown(summary))"
   ]
  },
  {
   "cell_type": "code",
   "execution_count": 24,
   "id": "3018853a-445f-41ff-9560-d925d1774b2f",
   "metadata": {},
   "outputs": [
    {
     "data": {
      "text/markdown": [
       "# Team-BHP - India's Most Trusted Car Reviews & News\n",
       "\n",
       "Team-BHP is a comprehensive platform dedicated to car enthusiasts in India, providing a plethora of resources, including **car reviews, news, forums**, and **classifieds** for buying and selling vehicles.\n",
       "\n",
       "## Latest News Highlights\n",
       "- **2025 Suzuki Access 125 Review** released.\n",
       "- **Mahindra XUV700 facelift** spotted in test drives.\n",
       "- **Ather EL** electric scooter concept teased.\n",
       "- **Tata Motors** makes a comeback to the South African market after 6 years.\n",
       "- **Xiaomi** plans to launch electric vehicles in Europe by 2027.\n",
       "- **Citroen** introduces vehicles tailored for fleet operators.\n",
       "- **2025 Hero Glamour X 125** launched at ₹89,999.\n",
       "\n",
       "## Community Engagement\n",
       "The site features a robust **forum** with discussions ranging from ownership experiences to technical advice. Popular hot threads include ownership reviews of various models and discussions about driving habits and EV adoption in India. \n",
       "\n",
       "## Reviews and Comparisons\n",
       "Team-BHP hosts detailed reviews for a wide array of vehicles, from luxury cars to motorcycles, giving users insights into experiences and performance.\n",
       "\n",
       "Overall, Team-BHP serves as a reliable source for automotive information, fostering an engaged community among car lovers."
      ],
      "text/plain": [
       "<IPython.core.display.Markdown object>"
      ]
     },
     "metadata": {},
     "output_type": "display_data"
    }
   ],
   "source": [
    "display_summary(\"https://team-bhp.com\")"
   ]
  },
  {
   "cell_type": "markdown",
   "id": "b3bcf6f4-adce-45e9-97ad-d9a5d7a3a624",
   "metadata": {},
   "source": [
    "# Let's try more websites\n",
    "\n",
    "Note that this will only work on websites that can be scraped using this simplistic approach.\n",
    "\n",
    "Websites that are rendered with Javascript, like React apps, won't show up. See the community-contributions folder for a Selenium implementation that gets around this. You'll need to read up on installing Selenium (ask ChatGPT!)\n",
    "\n",
    "Also Websites protected with CloudFront (and similar) may give 403 errors - many thanks Andy J for pointing this out.\n",
    "\n",
    "But many websites will work just fine!"
   ]
  },
  {
   "cell_type": "code",
   "execution_count": 25,
   "id": "45d83403-a24c-44b5-84ac-961449b4008f",
   "metadata": {},
   "outputs": [
    {
     "data": {
      "text/markdown": [
       "# Summary of Latest News Today - The Indian Express\n",
       "\n",
       "The **Indian Express** website, titled \"Latest News Today,\" serves as a comprehensive news portal covering a wide array of topics including politics, business, sports, entertainment, and more, focused primarily on developments in India. \n",
       "\n",
       "### Key Headlines\n",
       "\n",
       "- **Political Drama**: A TMC leader has filed a defamation case against the father of a rape-murder victim, generating significant controversy.\n",
       "- **Military Movements**: Israel is mobilizing 60,000 army reservists in preparation for an offensive in Gaza City.\n",
       "- **Local Incidents**: A tragic incident in Ahmedabad occurred where a Class 8 student fatally stabbed a Class 10 student, prompting protests and violence at a local school.\n",
       "- **Protests and Policing**: Major protests against a power project turned violent in Madhya Pradesh, resulting in the police employing lathicharge and teargas to control the crowds, with around 300 individuals booked.\n",
       "- **Entertainment**: Shah Rukh Khan made headlines at a preview event for *The Ba***ds of Bollywood*, creating quite the buzz with his charisma and interactions with fans.\n",
       "- **Legislation Moves**: The Indian government is pushing forward with talks aimed at resuming trade agreements with the Russia-led EAEU bloc amidst complicated international tariff discussions.\n",
       "\n",
       "### Miscellaneous Updates\n",
       "\n",
       "- Mumbai continues to experience heavy rains leading to significant impacts on daily life and transportation.\n",
       "- An incident involving alleged police malpractice has raised concerns regarding conditions at the Mandoli Jail, prompting a judicial reprimand.\n",
       "- The RBI Governor has voiced concerns over monetary policy in light of external uncertainties affecting the Indian economy.\n",
       "\n",
       "In essence, *The Indian Express* remains a vital source for breaking news and in-depth analysis on current events shaping India today."
      ],
      "text/plain": [
       "<IPython.core.display.Markdown object>"
      ]
     },
     "metadata": {},
     "output_type": "display_data"
    }
   ],
   "source": [
    "display_summary(\"https://indianexpress.com\")"
   ]
  },
  {
   "cell_type": "markdown",
   "id": "610d0e00-b652-4b1d-a54b-00b24809c838",
   "metadata": {},
   "source": [
    "# Even converts Hindi News to it's English Equivalent Summary"
   ]
  },
  {
   "cell_type": "code",
   "execution_count": 27,
   "id": "75e9fd40-b354-4341-991e-863ef2e59db7",
   "metadata": {},
   "outputs": [
    {
     "data": {
      "text/markdown": [
       "# Summary of Dainik Bhaskar Website\n",
       "\n",
       "Dainik Bhaskar is a comprehensive Hindi news website providing the latest updates on various topics, including politics, sports, entertainment, and lifestyle. The site offers real-time news coverage, videos, and special features on trending issues.\n",
       "\n",
       "## Key Highlights:\n",
       "\n",
       "- **Political News**: The site discusses significant political events like recent bills introduced in the Lok Sabha, including a bill that could lead to the removal of PM or CM upon arrest. There were also incidents of opposition protests where paper balls were thrown in Parliament.\n",
       "\n",
       "- **Crime and Legal Matters**: Reports cover alarming incidents, such as an attack on Delhi's Chief Minister and issues surrounding migrant workers in Delhi-NCR. The aftermath of natural disasters, such as fatalities caused by cloudbursts in Kishtwar, is also highlighted.\n",
       "\n",
       "- **Sports Updates**: Cricket features prominently, including discussions about India's team composition for the Asia Cup, and controversies surrounding the rankings of players like Rohit Sharma and Virat Kohli.\n",
       "\n",
       "- **Business News**: Developments in the business world include the potential banning of online gaming sponsors and updates related to job recruitment in banks.\n",
       "\n",
       "- **Lifestyle Articles**: Content spans lifestyle tips and relationship advice, focusing on the well-being of readers.\n",
       "\n",
       "- **Trending Topics**: The site reports on various trending topics like the ongoing Russia-Ukraine war, the political landscape in Maharashtra, and unique stories captivating audience interest.\n",
       "\n",
       "Overall, Dainik Bhaskar serves as a key source of information for Hindi-speaking audiences seeking diverse news coverage from local to international events."
      ],
      "text/plain": [
       "<IPython.core.display.Markdown object>"
      ]
     },
     "metadata": {},
     "output_type": "display_data"
    }
   ],
   "source": [
    "display_summary(\"https://bhaskar.com\")"
   ]
  },
  {
   "cell_type": "code",
   "execution_count": null,
   "id": "f4484fcf-8b39-4c3f-9674-37970ed71988",
   "metadata": {},
   "outputs": [],
   "source": []
  }
 ],
 "metadata": {
  "kernelspec": {
   "display_name": "Python 3 (ipykernel)",
   "language": "python",
   "name": "python3"
  },
  "language_info": {
   "codemirror_mode": {
    "name": "ipython",
    "version": 3
   },
   "file_extension": ".py",
   "mimetype": "text/x-python",
   "name": "python",
   "nbconvert_exporter": "python",
   "pygments_lexer": "ipython3",
   "version": "3.11.13"
  }
 },
 "nbformat": 4,
 "nbformat_minor": 5
}
